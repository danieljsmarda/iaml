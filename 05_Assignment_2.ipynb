{
 "cells": [
  {
   "cell_type": "markdown",
   "metadata": {},
   "source": [
    "# Introductory applied machine learning (INFR10069)"
   ]
  },
  {
   "cell_type": "code",
   "execution_count": null,
   "metadata": {
    "collapsed": true
   },
   "outputs": [],
   "source": []
  },
  {
   "cell_type": "markdown",
   "metadata": {},
   "source": [
    "# Assignment 2: Linear regression"
   ]
  },
  {
   "cell_type": "markdown",
   "metadata": {},
   "source": [
    "## Marking Breakdown\n",
    "\n",
    "**70-100%** results/answer correct plus extra achievement at understanding or analysis of results. Clear explanations, evidence of creative or deeper thought will contribute to a higher grade.\n",
    "\n",
    "**60-69%** results/answer correct or nearly correct and well explained.\n",
    "\n",
    "**50-59%** results/answer in right direction but significant errors.\n",
    "\n",
    "**40-49%** some evidence that the student has gained some understanding, but not answered the questions\n",
    "properly.\n",
    "\n",
    "**0-39%** serious error or slack work."
   ]
  },
  {
   "cell_type": "markdown",
   "metadata": {},
   "source": [
    "## Mechanics\n",
    "\n",
    "You should produce a Jupyter notebook in answer to this assignment.\n",
    "**You need to submit this notebook electronically as described below.**\n",
    "\n",
    "Place your notebook in a directory called `iamlans` and submit this directory using the submit command on a DICE machine. The format is:\n",
    "\n",
    "`submit iaml 2 iamlans`\n",
    "\n",
    "You can check the status of your submissions with the `show_submissions` command.\n",
    "\n",
    "**Late submissions:** The policy stated in the School of Informatics MSc Degree Guide is that normally you will not be allowed to submit coursework late. See http://www.inf.ed.ac.uk/teaching/years/msc/courseguide10.html#exam for exceptions to this, e.g. in case of serious medical illness or serious personal problems.\n",
    "\n",
    "**Collaboration:** You may discuss the assignment with your colleagues, provided that the writing that you submit is entirely your own. That is, you should NOT borrow actual text or code from other students. We ask that you provide a list of the people who you've had discussions with (if any).\n"
   ]
  },
  {
   "cell_type": "markdown",
   "metadata": {},
   "source": [
    "## Important Instructions\n",
    "\n",
    "1. In the following questions you are asked to run experiments using Python (version 2.7) and the following packages:\n",
    "    * Numpy\n",
    "    * Pandas\n",
    "    * Scikit-learn\n",
    "    * Matplotlib\n",
    "    * Seaborn\n",
    "\n",
    "2. Before you start make sure you have set up a vitual environment (or conda environment if you are working on your own machine) and the required packages installed. Instructions on how to set-up the working enviornment and install the required packages can be found in `01_Lab_1_Introduction`.\n",
    "\n",
    "3. Wherever you are required to produce code you should use code cells, otherwise you should use markdown cells to report results and explain answers.\n",
    "\n",
    "4. The .csv files that you will be using are located at `./datasets/` (the `datasets` directory is adjacent to this file).\n",
    "\n",
    "5. **IMPORTANT:** Keep your answers brief and concise. Most questions can be answered with 2-3 lines of explanation (excluding coding questions)."
   ]
  },
  {
   "cell_type": "markdown",
   "metadata": {},
   "source": [
    "# Notes Concerning the Assignment:\n",
    "1. The students that I have discussed the assignment with are Lefteris Manousakis, Yova Kemenchedjieva, and Mark Anderson\n",
    "2. Based on my engineering background I made educated guesses as to the real units of the data provided. For example, I assumed that the prices were in units of British pounds and that the engine powers were given in units of Watts. I understand that I probably could have just said \"units\" for the assignment but I felt that having real-world units would result in a more comprehensive, representative data analysis and presentation. With that in mind, please allow some lenience if I guessed the units incorrectly."
   ]
  },
  {
   "cell_type": "markdown",
   "metadata": {},
   "source": [
    "## Imports\n",
    "\n",
    "Execute the cell below to import all packages you will be using in the rest of the assignemnt."
   ]
  },
  {
   "cell_type": "code",
   "execution_count": 32,
   "metadata": {},
   "outputs": [],
   "source": [
    "from __future__ import print_function, division\n",
    "import os\n",
    "import numpy as np\n",
    "import pandas as pd\n",
    "import matplotlib.pyplot as plt\n",
    "from sklearn.metrics import r2_score, explained_variance_score, mean_absolute_error, mean_squared_error\n",
    "from sklearn.cross_validation import train_test_split, KFold, cross_val_predict\n",
    "from sklearn.linear_model import LinearRegression\n",
    "from sklearn.preprocessing import OneHotEncoder, LabelEncoder\n",
    "from sklearn.tree import DecisionTreeRegressor\n",
    "from sklearn.ensemble import RandomForestRegressor\n",
    "import seaborn as sns\n",
    "from math import sqrt, log\n",
    "%matplotlib inline"
   ]
  },
  {
   "cell_type": "markdown",
   "metadata": {},
   "source": [
    "## Description of the dataset\n",
    "This assignment is based on the automobile pricing dataset. Our goal will be to predict the price of automobiles based on various attributes. This data set consists of three types of entities: (a) the specification of an automobile in terms of various characteristics, (b) its assigned insurance risk rating, (c) its normalized losses in use as compared to other cars. The second rating corresponds to the degree to which the auto is more risky than its price indicates. Cars are initially assigned a risk factor symbol associated with its price. Then, if it is more risky (or less), this symbol is adjusted by moving it up (or down) the scale. Actuaries call this process ”symboling”. A value of +3 indicates that the auto is risky, -3 that it is probably pretty safe. The third factor is the relative average loss payment per insured vehicle year. This value is normalized for all autos within a particular size classification (two door small, station wagons, sports/speciality, etc...), and represents the average loss per car per year. To save you time and to make the problem manageable with limited computational resources, we preprocessed the original dataset. We removed any instances that had one or more missing values and randomized the data set. The resulting representation is much more compact and can be used directly to perform our experiments."
   ]
  },
  {
   "cell_type": "markdown",
   "metadata": {},
   "source": [
    "## 1. Simple Linear Regression [50%]\n",
    "We will begin by studying a simple Linear Regression model. Such a model will consider the relationship between a dependent (response) variable and only one independent (explanatory) variable. When applying machine learning in practice it can be prudent to start out simple in order to get a feeling for the dataset and for any potential difficulties that might warrant a more sophisticated model. In this Section we will consider one independent variable (i.e. feature) `engine-power` against the dependent variable (i.e. target) `price`."
   ]
  },
  {
   "cell_type": "markdown",
   "metadata": {},
   "source": [
    "### ========== Question 1.1 ==========\n",
    "Load the dataset `train_auto_numeric.csv` into a pandas DataFrame called `auto_numeric`. Display the number of data points and attributes in the dataset."
   ]
  },
  {
   "cell_type": "code",
   "execution_count": 33,
   "metadata": {},
   "outputs": [
    {
     "name": "stdout",
     "output_type": "stream",
     "text": [
      "<class 'pandas.core.frame.DataFrame'>\n",
      "RangeIndex: 159 entries, 0 to 158\n",
      "Data columns (total 16 columns):\n",
      "normalized-losses          159 non-null float64\n",
      "wheel-base                 159 non-null float64\n",
      "length                     159 non-null float64\n",
      "width                      159 non-null float64\n",
      "height                     159 non-null float64\n",
      "engine-size                159 non-null float64\n",
      "bore                       159 non-null float64\n",
      "stroke                     159 non-null float64\n",
      "compression-ratio          159 non-null float64\n",
      "engine-power               159 non-null float64\n",
      "peak-rpm                   159 non-null float64\n",
      "city-mpg                   159 non-null float64\n",
      "highway-mpg                159 non-null float64\n",
      "mean-effective-pressure    159 non-null float64\n",
      "torque                     159 non-null float64\n",
      "price                      159 non-null float64\n",
      "dtypes: float64(16)\n",
      "memory usage: 20.0 KB\n",
      "Total number of datapoints: 159\n",
      "Total number of attributes: 15\n"
     ]
    }
   ],
   "source": [
    "# Your code goes here\n",
    "data_path = os.path.join(os.getcwd(), 'datasets', 'train_auto_numeric.csv')\n",
    "auto_numeric = pd.read_csv(data_path, delimiter = ',')\n",
    "auto_numeric.info()\n",
    "print (\"Total number of datapoints: {}\".format(auto_numeric.shape[0]))\n",
    "print (\"Total number of attributes: {}\".format(auto_numeric.shape[1]-1))"
   ]
  },
  {
   "cell_type": "markdown",
   "metadata": {},
   "source": [
    "### ========== Question 1.2 ==========\n",
    "Display the first 8 instances of the dataset."
   ]
  },
  {
   "cell_type": "code",
   "execution_count": 34,
   "metadata": {},
   "outputs": [
    {
     "data": {
      "text/html": [
       "<div>\n",
       "<style>\n",
       "    .dataframe thead tr:only-child th {\n",
       "        text-align: right;\n",
       "    }\n",
       "\n",
       "    .dataframe thead th {\n",
       "        text-align: left;\n",
       "    }\n",
       "\n",
       "    .dataframe tbody tr th {\n",
       "        vertical-align: top;\n",
       "    }\n",
       "</style>\n",
       "<table border=\"1\" class=\"dataframe\">\n",
       "  <thead>\n",
       "    <tr style=\"text-align: right;\">\n",
       "      <th></th>\n",
       "      <th>normalized-losses</th>\n",
       "      <th>wheel-base</th>\n",
       "      <th>length</th>\n",
       "      <th>width</th>\n",
       "      <th>height</th>\n",
       "      <th>engine-size</th>\n",
       "      <th>bore</th>\n",
       "      <th>stroke</th>\n",
       "      <th>compression-ratio</th>\n",
       "      <th>engine-power</th>\n",
       "      <th>peak-rpm</th>\n",
       "      <th>city-mpg</th>\n",
       "      <th>highway-mpg</th>\n",
       "      <th>mean-effective-pressure</th>\n",
       "      <th>torque</th>\n",
       "      <th>price</th>\n",
       "    </tr>\n",
       "  </thead>\n",
       "  <tbody>\n",
       "    <tr>\n",
       "      <th>0</th>\n",
       "      <td>164.0</td>\n",
       "      <td>99.8</td>\n",
       "      <td>176.6</td>\n",
       "      <td>66.2</td>\n",
       "      <td>54.3</td>\n",
       "      <td>8.85</td>\n",
       "      <td>3.19</td>\n",
       "      <td>3.40</td>\n",
       "      <td>10.0</td>\n",
       "      <td>102000.0</td>\n",
       "      <td>5500.0</td>\n",
       "      <td>24.0</td>\n",
       "      <td>30.0</td>\n",
       "      <td>40.52</td>\n",
       "      <td>57.68</td>\n",
       "      <td>13950.0</td>\n",
       "    </tr>\n",
       "    <tr>\n",
       "      <th>1</th>\n",
       "      <td>110.0</td>\n",
       "      <td>99.4</td>\n",
       "      <td>162.4</td>\n",
       "      <td>66.4</td>\n",
       "      <td>54.3</td>\n",
       "      <td>15.18</td>\n",
       "      <td>3.19</td>\n",
       "      <td>3.40</td>\n",
       "      <td>8.0</td>\n",
       "      <td>115000.0</td>\n",
       "      <td>5500.0</td>\n",
       "      <td>18.0</td>\n",
       "      <td>22.0</td>\n",
       "      <td>47.39</td>\n",
       "      <td>59.59</td>\n",
       "      <td>17450.0</td>\n",
       "    </tr>\n",
       "    <tr>\n",
       "      <th>2</th>\n",
       "      <td>158.0</td>\n",
       "      <td>105.8</td>\n",
       "      <td>192.7</td>\n",
       "      <td>71.4</td>\n",
       "      <td>51.6</td>\n",
       "      <td>15.18</td>\n",
       "      <td>3.94</td>\n",
       "      <td>2.80</td>\n",
       "      <td>8.5</td>\n",
       "      <td>70000.0</td>\n",
       "      <td>4400.0</td>\n",
       "      <td>28.0</td>\n",
       "      <td>30.0</td>\n",
       "      <td>0.85</td>\n",
       "      <td>3344.79</td>\n",
       "      <td>17710.0</td>\n",
       "    </tr>\n",
       "    <tr>\n",
       "      <th>3</th>\n",
       "      <td>106.0</td>\n",
       "      <td>86.6</td>\n",
       "      <td>158.7</td>\n",
       "      <td>67.7</td>\n",
       "      <td>55.9</td>\n",
       "      <td>13.74</td>\n",
       "      <td>3.13</td>\n",
       "      <td>3.50</td>\n",
       "      <td>7.8</td>\n",
       "      <td>140000.0</td>\n",
       "      <td>5600.0</td>\n",
       "      <td>32.0</td>\n",
       "      <td>20.0</td>\n",
       "      <td>44.74</td>\n",
       "      <td>68.97</td>\n",
       "      <td>23875.0</td>\n",
       "    </tr>\n",
       "    <tr>\n",
       "      <th>4</th>\n",
       "      <td>192.0</td>\n",
       "      <td>101.2</td>\n",
       "      <td>176.8</td>\n",
       "      <td>64.8</td>\n",
       "      <td>54.3</td>\n",
       "      <td>8.67</td>\n",
       "      <td>3.50</td>\n",
       "      <td>2.80</td>\n",
       "      <td>8.8</td>\n",
       "      <td>101000.0</td>\n",
       "      <td>5800.0</td>\n",
       "      <td>23.0</td>\n",
       "      <td>29.0</td>\n",
       "      <td>44.78</td>\n",
       "      <td>53.48</td>\n",
       "      <td>16430.0</td>\n",
       "    </tr>\n",
       "    <tr>\n",
       "      <th>5</th>\n",
       "      <td>194.0</td>\n",
       "      <td>110.0</td>\n",
       "      <td>190.9</td>\n",
       "      <td>71.4</td>\n",
       "      <td>58.7</td>\n",
       "      <td>8.67</td>\n",
       "      <td>3.78</td>\n",
       "      <td>3.90</td>\n",
       "      <td>22.5</td>\n",
       "      <td>101000.0</td>\n",
       "      <td>6000.0</td>\n",
       "      <td>47.0</td>\n",
       "      <td>53.0</td>\n",
       "      <td>1.80</td>\n",
       "      <td>1330.28</td>\n",
       "      <td>16925.0</td>\n",
       "    </tr>\n",
       "    <tr>\n",
       "      <th>6</th>\n",
       "      <td>188.0</td>\n",
       "      <td>101.2</td>\n",
       "      <td>176.8</td>\n",
       "      <td>64.8</td>\n",
       "      <td>54.3</td>\n",
       "      <td>26.58</td>\n",
       "      <td>3.31</td>\n",
       "      <td>3.19</td>\n",
       "      <td>9.0</td>\n",
       "      <td>121000.0</td>\n",
       "      <td>4250.0</td>\n",
       "      <td>21.0</td>\n",
       "      <td>28.0</td>\n",
       "      <td>7.19</td>\n",
       "      <td>377.06</td>\n",
       "      <td>20970.0</td>\n",
       "    </tr>\n",
       "    <tr>\n",
       "      <th>7</th>\n",
       "      <td>150.0</td>\n",
       "      <td>101.2</td>\n",
       "      <td>176.8</td>\n",
       "      <td>64.8</td>\n",
       "      <td>56.1</td>\n",
       "      <td>26.58</td>\n",
       "      <td>3.03</td>\n",
       "      <td>3.19</td>\n",
       "      <td>8.0</td>\n",
       "      <td>134000.0</td>\n",
       "      <td>4400.0</td>\n",
       "      <td>28.0</td>\n",
       "      <td>37.0</td>\n",
       "      <td>57.37</td>\n",
       "      <td>48.20</td>\n",
       "      <td>21105.0</td>\n",
       "    </tr>\n",
       "  </tbody>\n",
       "</table>\n",
       "</div>"
      ],
      "text/plain": [
       "   normalized-losses  wheel-base  length  width  height  engine-size  bore  \\\n",
       "0              164.0        99.8   176.6   66.2    54.3         8.85  3.19   \n",
       "1              110.0        99.4   162.4   66.4    54.3        15.18  3.19   \n",
       "2              158.0       105.8   192.7   71.4    51.6        15.18  3.94   \n",
       "3              106.0        86.6   158.7   67.7    55.9        13.74  3.13   \n",
       "4              192.0       101.2   176.8   64.8    54.3         8.67  3.50   \n",
       "5              194.0       110.0   190.9   71.4    58.7         8.67  3.78   \n",
       "6              188.0       101.2   176.8   64.8    54.3        26.58  3.31   \n",
       "7              150.0       101.2   176.8   64.8    56.1        26.58  3.03   \n",
       "\n",
       "   stroke  compression-ratio  engine-power  peak-rpm  city-mpg  highway-mpg  \\\n",
       "0    3.40               10.0      102000.0    5500.0      24.0         30.0   \n",
       "1    3.40                8.0      115000.0    5500.0      18.0         22.0   \n",
       "2    2.80                8.5       70000.0    4400.0      28.0         30.0   \n",
       "3    3.50                7.8      140000.0    5600.0      32.0         20.0   \n",
       "4    2.80                8.8      101000.0    5800.0      23.0         29.0   \n",
       "5    3.90               22.5      101000.0    6000.0      47.0         53.0   \n",
       "6    3.19                9.0      121000.0    4250.0      21.0         28.0   \n",
       "7    3.19                8.0      134000.0    4400.0      28.0         37.0   \n",
       "\n",
       "   mean-effective-pressure   torque    price  \n",
       "0                    40.52    57.68  13950.0  \n",
       "1                    47.39    59.59  17450.0  \n",
       "2                     0.85  3344.79  17710.0  \n",
       "3                    44.74    68.97  23875.0  \n",
       "4                    44.78    53.48  16430.0  \n",
       "5                     1.80  1330.28  16925.0  \n",
       "6                     7.19   377.06  20970.0  \n",
       "7                    57.37    48.20  21105.0  "
      ]
     },
     "execution_count": 34,
     "metadata": {},
     "output_type": "execute_result"
    }
   ],
   "source": [
    "# Your code goes here\n",
    "auto_numeric.head(8)"
   ]
  },
  {
   "cell_type": "markdown",
   "metadata": {},
   "source": [
    "### ========== Question 1.3 ==========\n",
    "Display the summary statistics for the dataset."
   ]
  },
  {
   "cell_type": "code",
   "execution_count": 35,
   "metadata": {},
   "outputs": [
    {
     "data": {
      "text/html": [
       "<div>\n",
       "<style>\n",
       "    .dataframe thead tr:only-child th {\n",
       "        text-align: right;\n",
       "    }\n",
       "\n",
       "    .dataframe thead th {\n",
       "        text-align: left;\n",
       "    }\n",
       "\n",
       "    .dataframe tbody tr th {\n",
       "        vertical-align: top;\n",
       "    }\n",
       "</style>\n",
       "<table border=\"1\" class=\"dataframe\">\n",
       "  <thead>\n",
       "    <tr style=\"text-align: right;\">\n",
       "      <th></th>\n",
       "      <th>normalized-losses</th>\n",
       "      <th>wheel-base</th>\n",
       "      <th>length</th>\n",
       "      <th>width</th>\n",
       "      <th>height</th>\n",
       "      <th>engine-size</th>\n",
       "      <th>bore</th>\n",
       "      <th>stroke</th>\n",
       "      <th>compression-ratio</th>\n",
       "      <th>engine-power</th>\n",
       "      <th>peak-rpm</th>\n",
       "      <th>city-mpg</th>\n",
       "      <th>highway-mpg</th>\n",
       "      <th>mean-effective-pressure</th>\n",
       "      <th>torque</th>\n",
       "      <th>price</th>\n",
       "    </tr>\n",
       "  </thead>\n",
       "  <tbody>\n",
       "    <tr>\n",
       "      <th>count</th>\n",
       "      <td>159.000000</td>\n",
       "      <td>159.000000</td>\n",
       "      <td>159.000000</td>\n",
       "      <td>159.000000</td>\n",
       "      <td>159.000000</td>\n",
       "      <td>159.000000</td>\n",
       "      <td>159.000000</td>\n",
       "      <td>159.000000</td>\n",
       "      <td>159.000000</td>\n",
       "      <td>159.000000</td>\n",
       "      <td>159.000000</td>\n",
       "      <td>159.000000</td>\n",
       "      <td>159.000000</td>\n",
       "      <td>159.000000</td>\n",
       "      <td>159.000000</td>\n",
       "      <td>159.000000</td>\n",
       "    </tr>\n",
       "    <tr>\n",
       "      <th>mean</th>\n",
       "      <td>121.955975</td>\n",
       "      <td>98.559748</td>\n",
       "      <td>171.698113</td>\n",
       "      <td>65.729560</td>\n",
       "      <td>53.925157</td>\n",
       "      <td>14.056352</td>\n",
       "      <td>3.294528</td>\n",
       "      <td>3.219874</td>\n",
       "      <td>10.446855</td>\n",
       "      <td>98528.301887</td>\n",
       "      <td>5072.012579</td>\n",
       "      <td>27.113208</td>\n",
       "      <td>32.327044</td>\n",
       "      <td>46.180503</td>\n",
       "      <td>200.055031</td>\n",
       "      <td>11684.723270</td>\n",
       "    </tr>\n",
       "    <tr>\n",
       "      <th>std</th>\n",
       "      <td>39.434186</td>\n",
       "      <td>5.803361</td>\n",
       "      <td>12.656791</td>\n",
       "      <td>2.292021</td>\n",
       "      <td>2.410446</td>\n",
       "      <td>17.143568</td>\n",
       "      <td>0.296959</td>\n",
       "      <td>0.381833</td>\n",
       "      <td>4.414796</td>\n",
       "      <td>34123.715967</td>\n",
       "      <td>549.988239</td>\n",
       "      <td>7.848229</td>\n",
       "      <td>8.231998</td>\n",
       "      <td>28.780966</td>\n",
       "      <td>513.289289</td>\n",
       "      <td>6744.910579</td>\n",
       "    </tr>\n",
       "    <tr>\n",
       "      <th>min</th>\n",
       "      <td>65.000000</td>\n",
       "      <td>86.600000</td>\n",
       "      <td>141.100000</td>\n",
       "      <td>60.300000</td>\n",
       "      <td>49.400000</td>\n",
       "      <td>3.390000</td>\n",
       "      <td>2.540000</td>\n",
       "      <td>2.070000</td>\n",
       "      <td>7.000000</td>\n",
       "      <td>48000.000000</td>\n",
       "      <td>4150.000000</td>\n",
       "      <td>15.000000</td>\n",
       "      <td>18.000000</td>\n",
       "      <td>0.490000</td>\n",
       "      <td>19.400000</td>\n",
       "      <td>5118.000000</td>\n",
       "    </tr>\n",
       "    <tr>\n",
       "      <th>25%</th>\n",
       "      <td>93.000000</td>\n",
       "      <td>94.500000</td>\n",
       "      <td>163.400000</td>\n",
       "      <td>64.000000</td>\n",
       "      <td>52.000000</td>\n",
       "      <td>6.960000</td>\n",
       "      <td>3.050000</td>\n",
       "      <td>3.070000</td>\n",
       "      <td>8.600000</td>\n",
       "      <td>69000.000000</td>\n",
       "      <td>4800.000000</td>\n",
       "      <td>22.000000</td>\n",
       "      <td>26.500000</td>\n",
       "      <td>21.775000</td>\n",
       "      <td>34.140000</td>\n",
       "      <td>7372.000000</td>\n",
       "    </tr>\n",
       "    <tr>\n",
       "      <th>50%</th>\n",
       "      <td>110.000000</td>\n",
       "      <td>97.000000</td>\n",
       "      <td>171.700000</td>\n",
       "      <td>65.400000</td>\n",
       "      <td>54.100000</td>\n",
       "      <td>9.030000</td>\n",
       "      <td>3.270000</td>\n",
       "      <td>3.270000</td>\n",
       "      <td>9.000000</td>\n",
       "      <td>92000.000000</td>\n",
       "      <td>5100.000000</td>\n",
       "      <td>26.000000</td>\n",
       "      <td>32.000000</td>\n",
       "      <td>49.800000</td>\n",
       "      <td>55.900000</td>\n",
       "      <td>9233.000000</td>\n",
       "    </tr>\n",
       "    <tr>\n",
       "      <th>75%</th>\n",
       "      <td>145.000000</td>\n",
       "      <td>101.200000</td>\n",
       "      <td>177.800000</td>\n",
       "      <td>66.500000</td>\n",
       "      <td>55.600000</td>\n",
       "      <td>14.885000</td>\n",
       "      <td>3.580000</td>\n",
       "      <td>3.410000</td>\n",
       "      <td>9.400000</td>\n",
       "      <td>116000.000000</td>\n",
       "      <td>5450.000000</td>\n",
       "      <td>31.000000</td>\n",
       "      <td>37.000000</td>\n",
       "      <td>68.495000</td>\n",
       "      <td>119.990000</td>\n",
       "      <td>14719.500000</td>\n",
       "    </tr>\n",
       "    <tr>\n",
       "      <th>max</th>\n",
       "      <td>256.000000</td>\n",
       "      <td>115.600000</td>\n",
       "      <td>202.600000</td>\n",
       "      <td>71.700000</td>\n",
       "      <td>59.800000</td>\n",
       "      <td>174.160000</td>\n",
       "      <td>3.940000</td>\n",
       "      <td>4.170000</td>\n",
       "      <td>23.000000</td>\n",
       "      <td>200000.000000</td>\n",
       "      <td>6600.000000</td>\n",
       "      <td>49.000000</td>\n",
       "      <td>54.000000</td>\n",
       "      <td>99.850000</td>\n",
       "      <td>3912.870000</td>\n",
       "      <td>42056.000000</td>\n",
       "    </tr>\n",
       "  </tbody>\n",
       "</table>\n",
       "</div>"
      ],
      "text/plain": [
       "       normalized-losses  wheel-base      length       width      height  \\\n",
       "count         159.000000  159.000000  159.000000  159.000000  159.000000   \n",
       "mean          121.955975   98.559748  171.698113   65.729560   53.925157   \n",
       "std            39.434186    5.803361   12.656791    2.292021    2.410446   \n",
       "min            65.000000   86.600000  141.100000   60.300000   49.400000   \n",
       "25%            93.000000   94.500000  163.400000   64.000000   52.000000   \n",
       "50%           110.000000   97.000000  171.700000   65.400000   54.100000   \n",
       "75%           145.000000  101.200000  177.800000   66.500000   55.600000   \n",
       "max           256.000000  115.600000  202.600000   71.700000   59.800000   \n",
       "\n",
       "       engine-size        bore      stroke  compression-ratio   engine-power  \\\n",
       "count   159.000000  159.000000  159.000000         159.000000     159.000000   \n",
       "mean     14.056352    3.294528    3.219874          10.446855   98528.301887   \n",
       "std      17.143568    0.296959    0.381833           4.414796   34123.715967   \n",
       "min       3.390000    2.540000    2.070000           7.000000   48000.000000   \n",
       "25%       6.960000    3.050000    3.070000           8.600000   69000.000000   \n",
       "50%       9.030000    3.270000    3.270000           9.000000   92000.000000   \n",
       "75%      14.885000    3.580000    3.410000           9.400000  116000.000000   \n",
       "max     174.160000    3.940000    4.170000          23.000000  200000.000000   \n",
       "\n",
       "          peak-rpm    city-mpg  highway-mpg  mean-effective-pressure  \\\n",
       "count   159.000000  159.000000   159.000000               159.000000   \n",
       "mean   5072.012579   27.113208    32.327044                46.180503   \n",
       "std     549.988239    7.848229     8.231998                28.780966   \n",
       "min    4150.000000   15.000000    18.000000                 0.490000   \n",
       "25%    4800.000000   22.000000    26.500000                21.775000   \n",
       "50%    5100.000000   26.000000    32.000000                49.800000   \n",
       "75%    5450.000000   31.000000    37.000000                68.495000   \n",
       "max    6600.000000   49.000000    54.000000                99.850000   \n",
       "\n",
       "            torque         price  \n",
       "count   159.000000    159.000000  \n",
       "mean    200.055031  11684.723270  \n",
       "std     513.289289   6744.910579  \n",
       "min      19.400000   5118.000000  \n",
       "25%      34.140000   7372.000000  \n",
       "50%      55.900000   9233.000000  \n",
       "75%     119.990000  14719.500000  \n",
       "max    3912.870000  42056.000000  "
      ]
     },
     "execution_count": 35,
     "metadata": {},
     "output_type": "execute_result"
    }
   ],
   "source": [
    "# Your code goes here\n",
    "auto_numeric.describe()"
   ]
  },
  {
   "cell_type": "markdown",
   "metadata": {},
   "source": [
    "### ========== Question 1.4  ==========\n",
    "Produce a scatter plot of `price` against `engine-power`. Label axes appropriately and include a title in your plot."
   ]
  },
  {
   "cell_type": "code",
   "execution_count": 36,
   "metadata": {},
   "outputs": [
    {
     "data": {
      "image/png": "[encoded data removed]",
      "text/plain": [
       "<matplotlib.figure.Figure at 0x7f843c1daef0>"
      ]
     },
     "metadata": {},
     "output_type": "display_data"
    }
   ],
   "source": [
    "# Your code goes here\n",
    "engine_power = auto_numeric[\"engine-power\"].values\n",
    "price = auto_numeric[\"price\"].values\n",
    "plt.scatter(engine_power, price)\n",
    "plt.xlabel(\"Engine Power (Watts)\")\n",
    "plt.ylabel(\"Price (British Pounds)\")\n",
    "plt.title(\"Vehicle Price v. Engine Power\")\n",
    "plt.show()"
   ]
  },
  {
   "cell_type": "markdown",
   "metadata": {},
   "source": [
    "### ========== Question 1.5  ==========\n",
    "Do you think that engine-power alone is sufficient for predicting the price? Can you make any other observations on the data from the above plot? Please explain your answer in 2-3 sentences. "
   ]
  },
  {
   "cell_type": "markdown",
   "metadata": {},
   "source": [
    "A: The data shows a siginificant amount of scatter and the points do not appear to fit any standard models (perhaps logisitic but not linear, power, exponential, etc.) which means that the engine power alone is probably not sufficient for predicting the price. However, there appears to be a rough positive correlation between the two variables, which means that the engine-power, to some currently undetermined extent, could still be a useful (if not comprehensive) part of our model. Also worth noting from the above plot is the clustering towards the lower prices and engine powers; this may be because of \"outliers\" (i.e. skewed data) in the top and far right areas of the data (which would require further statistical analysis to confirm whether the points are in fact outliers), or because fewer high-performance, high-power, expensive engines are produced as compared to the number of lower-power engines and thus there may just be less data available.\n",
    "\n"
   ]
  },
  {
   "cell_type": "markdown",
   "metadata": {},
   "source": [
    "### ========== Question 1.6  ==========\n",
    "Visualise the distribution of the car prices. Choose a sensible value for the number of bins in the histogram. Again, label axes appropriately and include a title in your plot."
   ]
  },
  {
   "cell_type": "code",
   "execution_count": 37,
   "metadata": {},
   "outputs": [
    {
     "data": {
      "image/png": "[encoded data removed]",
      "text/plain": [
       "<matplotlib.figure.Figure at 0x7f843c105e48>"
      ]
     },
     "metadata": {},
     "output_type": "display_data"
    }
   ],
   "source": [
    "# Your code goes here\n",
    "# I chose 13 bins because my statistics class taught that a good rule of thumb\n",
    "# for number of bins is the square root of the number of data points\n",
    "plt.hist(price, bins=13)\n",
    "plt.xlabel(\"Price (British Pounds)\")\n",
    "plt.ylabel(\"Number of Occurences in Dataset\")\n",
    "plt.title(\"Frequency Distribution of Vehicle Prices\")\n",
    "plt.show()"
   ]
  },
  {
   "cell_type": "markdown",
   "metadata": {},
   "source": [
    "### ========== Question 1.7  ==========\n",
    "How would you preprocess it to improve the performance of linear regression? Don’t do it at this stage, but instead in one sentence explain why you would do what you suggested."
   ]
  },
  {
   "cell_type": "markdown",
   "metadata": {},
   "source": [
    "A: A transformation should be performed on the data so that the data is more evenly distributed over the domain of the regressor, reducing the likelihood that the linear regression model will be skewed by a few very small or, more likely, very large data points. "
   ]
  },
  {
   "cell_type": "markdown",
   "metadata": {},
   "source": [
    "### ========== Question 1.8  ==========\n",
    "Now we want to build a simple linear regression model. First we need to define our input and target variables. Store the values of the attribute `engine-power` in a vector `X` and the values of our target variable `price` in a vector `y`."
   ]
  },
  {
   "cell_type": "code",
   "execution_count": 38,
   "metadata": {
    "collapsed": true
   },
   "outputs": [],
   "source": [
    "# Your code goes here\n",
    "X = auto_numeric[\"engine-power\"]\n",
    "y = auto_numeric[\"price\"]"
   ]
  },
  {
   "cell_type": "markdown",
   "metadata": {},
   "source": [
    "### ========== Question 1.9 ==========\n",
    "For technical reasons, we need to convert `X` into a 2D array, otherwise we will receive an error when trying to use it for building models. Perform this transformation and confirm that the shape of the resulting array is (`n`,1) where `n` is the number of instances in the dataset. "
   ]
  },
  {
   "cell_type": "code",
   "execution_count": 39,
   "metadata": {},
   "outputs": [
    {
     "name": "stdout",
     "output_type": "stream",
     "text": [
      "We expect a size of (159, 1) since there are 159 instances in the dataset.\n",
      "Actual size: (159, 1)\n"
     ]
    }
   ],
   "source": [
    "# Your code goes here\n",
    "X = np.reshape(X.values, (X.shape[0],1))\n",
    "print (\"We expect a size of (159, 1) since there are 159 instances in the dataset.\")\n",
    "print (\"Actual size: {}\".format(X.shape))"
   ]
  },
  {
   "cell_type": "markdown",
   "metadata": {},
   "source": [
    "### ========== Question 1.10  ==========\n",
    "Now we want to use Hold-out validation to split the dataset into training and testing subsets. Use 80% of the data for training and the remaining 20% for testing. Store your data into matrices `X_train`, `X_test`, `y_train`, `y_test`."
   ]
  },
  {
   "cell_type": "code",
   "execution_count": 40,
   "metadata": {
    "collapsed": true
   },
   "outputs": [],
   "source": [
    "# Your code goes here\n",
    "X_train, X_test, y_train, y_test = train_test_split(X, y, train_size=.8, test_size=.2, random_state=1)"
   ]
  },
  {
   "cell_type": "markdown",
   "metadata": {},
   "source": [
    "### ========== Question 1.11  ==========\n",
    "By using Scikit-learn's [`LinearRegression`](http://scikit-learn.org/0.17/modules/generated/sklearn.linear_model.LinearRegression.html) fit a model to the training data. When initialising the model, set the `normalize` parameter to `True` and use default settings for the other parameters."
   ]
  },
  {
   "cell_type": "code",
   "execution_count": 41,
   "metadata": {},
   "outputs": [
    {
     "data": {
      "text/plain": [
       "LinearRegression(copy_X=True, fit_intercept=True, n_jobs=1, normalize=True)"
      ]
     },
     "execution_count": 41,
     "metadata": {},
     "output_type": "execute_result"
    }
   ],
   "source": [
    "# Your code goes here\n",
    "lm = LinearRegression(normalize=True)\n",
    "lm.fit(X_train, y_train)"
   ]
  },
  {
   "cell_type": "markdown",
   "metadata": {},
   "source": [
    "### ========== Question 1.12  ==========\n",
    "By looking into the attributes of your model, write down an equation for predicting the price of a car given the engine-power."
   ]
  },
  {
   "cell_type": "code",
   "execution_count": 42,
   "metadata": {},
   "outputs": [
    {
     "name": "stdout",
     "output_type": "stream",
     "text": [
      "For y = price in British Pounds and X = engine power in Watts,\n",
      "y = 0.097X + 2,457.87\n"
     ]
    }
   ],
   "source": [
    "# Your code goes here\n",
    "print (\"For y = price in British Pounds and X = engine power in Watts,\")\n",
    "# I assigned the equation to a variable instead of printing in one code line because\n",
    "# the variable is useful in formatting graphs later in the assignment.\n",
    "equationString = \"y = {:,.3f}X + {:,.2f}\".format(lm.coef_[0], lm.intercept_)\n",
    "print (equationString)"
   ]
  },
  {
   "cell_type": "markdown",
   "metadata": {},
   "source": [
    "### ========== Question 1.13  ==========\n",
    "What happens to the price as one more unit of engine-power is added? By examining the magnitude of the regression coefficient is it possible to tell whether or not engine-power is an important influential variable on price? Explain your answer in 1-2 sentences."
   ]
  },
  {
   "cell_type": "markdown",
   "metadata": {},
   "source": [
    "A: The linear model above shows that as one more unit (Watt) of engine-power is added, the price increases by .1 units (British Pounds). If the data were normalized based on the sizes of the values in the arrays, we would see a nearly 1:1 incremental relationship which would suggest some non-arbitrary influence on the price, but without running similar analyses on the other attributes we cannot determine if the influence of engine-power on price is significant *compared to the influences of the other attributes on the price*."
   ]
  },
  {
   "cell_type": "markdown",
   "metadata": {},
   "source": [
    "### ========== Question 1.14  ==========\n",
    "Produce a scatter plot similar to the one in Question 1.4 but use training data only this time. Add the regression line to the plot and show the predictions on the training set by using a different marker. Label axes appropriately and add a title to the graph. "
   ]
  },
  {
   "cell_type": "code",
   "execution_count": 43,
   "metadata": {},
   "outputs": [
    {
     "data": {
      "image/png": "[encoded data removed]",
      "text/plain": [
       "<matplotlib.figure.Figure at 0x7f843c105eb8>"
      ]
     },
     "metadata": {},
     "output_type": "display_data"
    }
   ],
   "source": [
    "# Your code goes here\n",
    "plt.figure(figsize=(12,5))\n",
    "plt.scatter(X_train, y_train, label=\"Training Data\")\n",
    "y_pred = lm.predict(X=X_train)\n",
    "plt.plot(X_train, y_pred, c=\"r\", label=\"Regression Line: \\n\" + equationString)\n",
    "plt.scatter(X_train,y_pred, c=\"r\", label=\"Predictions on Training Data\")\n",
    "plt.xlabel(\"Engine Power (Watts)\")\n",
    "plt.ylabel(\"Price (British Pounds)\")\n",
    "plt.title(\"Vehicle Price v. Engine Power\")\n",
    "plt.legend(fontsize=8, markerscale = .75)\n",
    "plt.show()"
   ]
  },
  {
   "cell_type": "markdown",
   "metadata": {},
   "source": [
    "### ========== Question 1.15  ==========\n",
    "So far we have used Hold-out validation. Can you think of a disadvantage of using this method, especially when dealing with small datasets?"
   ]
  },
  {
   "cell_type": "markdown",
   "metadata": {},
   "source": [
    "A: Based on the input proportions, Hold-Out Validation randomly chooses one subset of the data for training and another for testing. This means that, especially with small datasets, there is a risk that the (presumably smaller) testing subset is not representative of the available data. Similarly, even if the training data is representative of future unseen data but the test subset is not representative of the available data then the model will not generalize well to unseen data. This disadvantage of Hold-Out Validation is significantly reduced by KFold validation which makes several splits so that all of the available data is used in training in testing, just not at the same time."
   ]
  },
  {
   "cell_type": "markdown",
   "metadata": {},
   "source": [
    "### ========== Question 1.16  ==========\n",
    "Now we want to use [`KFold`](http://scikit-learn.org/0.17/modules/generated/sklearn.cross_validation.KFold.html) cross-validation to evaluate the performance of the regression model. Famliriase yourself with the method and make sure you understand the differences between Hold-out and K-fold cross-validation. By using Scikit-learn's `K-fold` class construct a 5-fold cross-validation iterator for the `auto_numeric` dataset. Set the `shuffle` parameter to `True` and `random_state` to `0`. "
   ]
  },
  {
   "cell_type": "code",
   "execution_count": 44,
   "metadata": {
    "collapsed": true
   },
   "outputs": [],
   "source": [
    "# Your code goes here\n",
    "kf = KFold(159, n_folds=5, shuffle=True, random_state=0)"
   ]
  },
  {
   "cell_type": "markdown",
   "metadata": {},
   "source": [
    "### ========== Question 1.17  ==========\n",
    "By making use of the iterator you constructed in the previous question, loop through the 5 folds and display the mean value of the `price` variable for the training instances only in each fold."
   ]
  },
  {
   "cell_type": "code",
   "execution_count": 45,
   "metadata": {},
   "outputs": [
    {
     "name": "stdout",
     "output_type": "stream",
     "text": [
      "Mean price in pounds of training set, iteration 1: 11,853.27\n",
      "Mean price in pounds of training set, iteration 2: 11,635.98\n",
      "Mean price in pounds of training set, iteration 3: 11,689.87\n",
      "Mean price in pounds of training set, iteration 4: 11,709.83\n",
      "Mean price in pounds of training set, iteration 5: 11,535.84\n"
     ]
    }
   ],
   "source": [
    "# Your code goes here\n",
    "iteration = 1\n",
    "for train_index, test_index in kf:\n",
    "    print (\"Mean price in pounds of training set, iteration {}: {:,.2f}\"\\\n",
    "           .format(iteration, y[train_index].mean()))\n",
    "    iteration += 1"
   ]
  },
  {
   "cell_type": "markdown",
   "metadata": {},
   "source": [
    "### ========== Question 1.18  ==========\n",
    "Now initialise a new `LinearRegression` model and fit it by making use of the cross-validation iterator, the `X` and `y` arrays defined above and the [`cross_val_predict`](http://scikit-learn.org/0.17/modules/generated/sklearn.cross_validation.cross_val_predict.html) function. Display the shape of your prediction and confirm it has the same dimensionality as your `y` vector."
   ]
  },
  {
   "cell_type": "code",
   "execution_count": 46,
   "metadata": {},
   "outputs": [
    {
     "name": "stdout",
     "output_type": "stream",
     "text": [
      "Shape of y: (159,)\n",
      "Shape of predictions: (159,)\n"
     ]
    }
   ],
   "source": [
    "# Your code goes here\n",
    "lm_cv = LinearRegression(normalize=True)\n",
    "y_pred_cv = cross_val_predict(lm_cv, X, y=y, cv=kf)\n",
    "print (\"Shape of y: {}\".format(y.shape))\n",
    "print (\"Shape of predictions: {}\".format(y_pred_cv.shape))"
   ]
  },
  {
   "cell_type": "markdown",
   "metadata": {},
   "source": [
    "### ========== Question 1.19  ==========\n",
    "Report the Coefficient of Determination (R^2), Root Mean Squared Error (RMSE), Mean Absolute Error (MAE) and Correlation Coefficient (CC) from the simple linear regression model you build in Question 1.18. *Hint: RMSE is the square root of the Mean Squared Error (MSE). For CC you might find numpy's [`corrcoef`](http://docs.scipy.org/doc/numpy/reference/generated/numpy.corrcoef.html) function useful.* "
   ]
  },
  {
   "cell_type": "code",
   "execution_count": 47,
   "metadata": {},
   "outputs": [
    {
     "name": "stdout",
     "output_type": "stream",
     "text": [
      "R^2 value = 0.173\n",
      "Root Mean Squared Error (RMSE) = 6,114.45\n",
      "Mean Absolute Error (MAE) = 3,987.96\n",
      "Correlation Coefficient from corrcoef = 0.417\n"
     ]
    }
   ],
   "source": [
    "# Your code goes here\n",
    "R2 = r2_score(y_true=y, y_pred=y_pred_cv)\n",
    "print (\"R^2 value = {:,.3f}\".format(R2))\n",
    "MSE = mean_squared_error(y_true=y, y_pred=y_pred_cv)\n",
    "print (\"Root Mean Squared Error (RMSE) = {:,.2f}\".format(sqrt(MSE)))\n",
    "print (\"Mean Absolute Error (MAE) = {:,.2f}\".format(mean_absolute_error(y_true=y, y_pred=y_pred_cv)))\n",
    "print (\"Correlation Coefficient from corrcoef = {:,.3f}\".format(np.corrcoef(y, y_pred_cv)[1,0]))"
   ]
  },
  {
   "cell_type": "markdown",
   "metadata": {},
   "source": [
    "### ========== Question 1.20  ==========\n",
    "What do the above metrics intend to measure? Relate the values of CC, MAE and RMSE to the observations you made in Question 1.5. Explain your answer in 1-2 short paragraphs."
   ]
  },
  {
   "cell_type": "markdown",
   "metadata": {},
   "source": [
    "A: The Correlation Coefficient indicates strength of linear dependence. The fact that it is positive suggests a rough positive correlation rather than a negative one; i.e. that price generally increases as engine-power increases, which also intuitively makes sense. The fact that the value of 0.17 is so close to 0 means essentially that the data was very scattered and thus the independent variable (engine power) is probably not a good predictor by itself because the linear dependence of that single variable is weak. A weak positive correlation is exactly what was predicted by the visually scattered data in Q1.5.\n",
    "\n",
    "Root Mean Squared Error (RMSE) is an estimate of the average deviation from the true values. The RMSE of about 6000 that we calculated means that the predicted price values were approximately £6000 off of the true values. This is a significant amount given that several of the real prices were less than £6000. This measure was likely very skewed by what are potentially outlier data points with high prices and engine powers. The Mean Absolute Error (MAE) gives us similar information but is less sensitive to outliers. The fact that MAE is still so large (£4000) confirms that the fit is a poor one."
   ]
  },
  {
   "cell_type": "markdown",
   "metadata": {},
   "source": [
    "### ========== Question 1.21 ==========\n",
    "Show a histogram of the residuals of the linear regression model (i.e. true - predicted values). Label axes appropriately and add a title to your plot. Does the distribution of residuals look like what you expected?"
   ]
  },
  {
   "cell_type": "code",
   "execution_count": 48,
   "metadata": {},
   "outputs": [
    {
     "data": {
      "image/png": "[encoded data removed]",
      "text/plain": [
       "<matplotlib.figure.Figure at 0x7f843c279f98>"
      ]
     },
     "metadata": {},
     "output_type": "display_data"
    }
   ],
   "source": [
    "# Your code goes here\n",
    "plt.hist(y - y_pred_cv, bins=13)\n",
    "plt.xlabel(\"Residual (British Pounds)\")\n",
    "plt.ylabel(\"Number of Occurences of Residual Value\")\n",
    "plt.title(\"Residuals of 5-Fold Cross-Validation Linear Model of \\n Price v. Engine Power\")\n",
    "plt.show()"
   ]
  },
  {
   "cell_type": "markdown",
   "metadata": {},
   "source": [
    "A: The shape of this residual plot can be very easily inferred from the scatter plot in Q1.14. The wide scatter with a dense portion of data in 50000 < x < 100000 and 5000 < y < 10000 explains the mean just left (negative) of zero. The few data points with residuals greater >10000 and < -10000 are explained by the data points with x>150000 and y>25000 in the Q1.14 plot."
   ]
  },
  {
   "cell_type": "markdown",
   "metadata": {},
   "source": [
    "### ========== Question 1.22 ==========\n",
    "Load the new dataset `train_auto_base.csv` into a pandas DataFrame `auto_base`. Again by using the `engine-power` attribute as predictor and `price` as target variable build a LinearRegression model on this dataset. Report the R^2, RMSE, MAE and CC metrics for this model by making use of the K-fold CV iterator constructed in Question 1.16."
   ]
  },
  {
   "cell_type": "code",
   "execution_count": 49,
   "metadata": {},
   "outputs": [
    {
     "name": "stdout",
     "output_type": "stream",
     "text": [
      "R^2 value = -0.0021\n",
      "Root Mean Squared Error (RMSE) = 6,730.84\n",
      "Mean Absolute Error (MAE) = 4,901.86\n",
      "Correlation Coefficient from corrcoef = -0.062\n"
     ]
    }
   ],
   "source": [
    "# Your code goes here\n",
    "data_path_base = os.path.join(os.getcwd(), 'datasets', 'train_auto_base.csv')\n",
    "auto_base = pd.read_csv(data_path_base, delimiter = ',')\n",
    "X_base = auto_base[\"engine-power\"]\n",
    "X_base = np.reshape(X_base.values, (X_base.shape[0],1))\n",
    "y_base = auto_base[\"price\"]\n",
    "lm_cv_base = LinearRegression(normalize=True)\n",
    "y_pred_base = cross_val_predict(lm_cv_base, X_base, y=y_base, cv=kf)\n",
    "# Metrics\n",
    "R2_base = r2_score(y_true=y_base, y_pred=y_pred_base)\n",
    "print (\"R^2 value = {:,.4f}\".format(R2_base))\n",
    "MSE_base = mean_squared_error(y_true=y_base, y_pred=y_pred_base)\n",
    "print (\"Root Mean Squared Error (RMSE) = {:,.2f}\".format(sqrt(MSE_base)))\n",
    "print (\"Mean Absolute Error (MAE) = {:,.2f}\".format(mean_absolute_error(y_true=y_base, y_pred=y_pred_base)))\n",
    "print (\"Correlation Coefficient from corrcoef = {:,.3f}\".format(np.corrcoef(y_base, y_pred_base)[1,0]))\n"
   ]
  },
  {
   "cell_type": "markdown",
   "metadata": {},
   "source": [
    "### ========== Question 1.23 ==========\n",
    "Show a scatter plot of predicted vs. true price and another one of predicted price vs. engine-power. Use a single plot with two subplots. Label axes appropriately."
   ]
  },
  {
   "cell_type": "code",
   "execution_count": 50,
   "metadata": {
    "scrolled": true
   },
   "outputs": [
    {
     "data": {
      "image/png": "[encoded data removed]",
      "text/plain": [
       "<matplotlib.figure.Figure at 0x7f843de81e48>"
      ]
     },
     "metadata": {},
     "output_type": "display_data"
    }
   ],
   "source": [
    "# Your code goes here\n",
    "f, ax = plt.subplots(figsize = (14,7))\n",
    "plt.xticks([])\n",
    "plt.yticks([])\n",
    "\n",
    "ax1 = f.add_subplot(1,2,1)\n",
    "ax1.scatter(y_base, y_pred_base)\n",
    "ax1.set_title(\"Predicted Auto Price v. Actual Auto Price\")\n",
    "ax1.set_xlabel(\"Actual Auto Price (Pounds)\")\n",
    "ax1.set_ylabel(\"Predicted Auto Price (Pounds)\")\n",
    "\n",
    "ax2 = f.add_subplot(1,2,2)\n",
    "ax2.scatter(X_base, y_pred_base)\n",
    "ax2.set_title(\"Predicted Auto Price v. Engine Power\")\n",
    "ax2.set_xlabel(\"Engine Power (Watts)\")\n",
    "ax2.set_ylabel(\"Predicted Auto Price (Pounds)\")\n",
    "\n",
    "plt.show()"
   ]
  },
  {
   "cell_type": "markdown",
   "metadata": {},
   "source": [
    "### ========== Question 1.24 ==========\n",
    "What is the simplest baseline model for the purposes of regression? Relate your answer to the regression model you have just built as part of this question. Can the predictions of this model be justified given the procedure you followed to train it?"
   ]
  },
  {
   "cell_type": "markdown",
   "metadata": {},
   "source": [
    "A: Given a single regressor, the simplest estimate for the target value is the mean of the regressors. Because the regressor in the auto_train_base dataset only had one value (1.0), the regression model had no information about how the target values varied with the regressor and was thus forced (i.e. justified) to use the simplest predictions: the means as calculated in Q1.17, with each of the 5 values corresponding to one of the folds of the 5-fold cross-validation. Each of these 5 estimates can be interpreted as a point on the right plot above and a row of points on the left plot above."
   ]
  },
  {
   "cell_type": "markdown",
   "metadata": {},
   "source": [
    "### ========== Question 1.25 ==========\n",
    "Why do you think this model performs so poorly? (*Hint: Justify your answer by displaying some statistics of the `auto_base` dataset.*)"
   ]
  },
  {
   "cell_type": "code",
   "execution_count": 51,
   "metadata": {},
   "outputs": [
    {
     "data": {
      "text/html": [
       "<div>\n",
       "<style>\n",
       "    .dataframe thead tr:only-child th {\n",
       "        text-align: right;\n",
       "    }\n",
       "\n",
       "    .dataframe thead th {\n",
       "        text-align: left;\n",
       "    }\n",
       "\n",
       "    .dataframe tbody tr th {\n",
       "        vertical-align: top;\n",
       "    }\n",
       "</style>\n",
       "<table border=\"1\" class=\"dataframe\">\n",
       "  <thead>\n",
       "    <tr style=\"text-align: right;\">\n",
       "      <th></th>\n",
       "      <th>engine-power</th>\n",
       "      <th>price</th>\n",
       "    </tr>\n",
       "  </thead>\n",
       "  <tbody>\n",
       "    <tr>\n",
       "      <th>count</th>\n",
       "      <td>159.0</td>\n",
       "      <td>159.000000</td>\n",
       "    </tr>\n",
       "    <tr>\n",
       "      <th>mean</th>\n",
       "      <td>1.0</td>\n",
       "      <td>11684.723270</td>\n",
       "    </tr>\n",
       "    <tr>\n",
       "      <th>std</th>\n",
       "      <td>0.0</td>\n",
       "      <td>6744.910579</td>\n",
       "    </tr>\n",
       "    <tr>\n",
       "      <th>min</th>\n",
       "      <td>1.0</td>\n",
       "      <td>5118.000000</td>\n",
       "    </tr>\n",
       "    <tr>\n",
       "      <th>25%</th>\n",
       "      <td>1.0</td>\n",
       "      <td>7372.000000</td>\n",
       "    </tr>\n",
       "    <tr>\n",
       "      <th>50%</th>\n",
       "      <td>1.0</td>\n",
       "      <td>9233.000000</td>\n",
       "    </tr>\n",
       "    <tr>\n",
       "      <th>75%</th>\n",
       "      <td>1.0</td>\n",
       "      <td>14719.500000</td>\n",
       "    </tr>\n",
       "    <tr>\n",
       "      <th>max</th>\n",
       "      <td>1.0</td>\n",
       "      <td>42056.000000</td>\n",
       "    </tr>\n",
       "  </tbody>\n",
       "</table>\n",
       "</div>"
      ],
      "text/plain": [
       "       engine-power         price\n",
       "count         159.0    159.000000\n",
       "mean            1.0  11684.723270\n",
       "std             0.0   6744.910579\n",
       "min             1.0   5118.000000\n",
       "25%             1.0   7372.000000\n",
       "50%             1.0   9233.000000\n",
       "75%             1.0  14719.500000\n",
       "max             1.0  42056.000000"
      ]
     },
     "execution_count": 51,
     "metadata": {},
     "output_type": "execute_result"
    }
   ],
   "source": [
    "# Your code goes here\n",
    "auto_base.describe()"
   ]
  },
  {
   "cell_type": "markdown",
   "metadata": {},
   "source": [
    "A: As explained in 1.24, the engine-power mean of 1 and standard deviation of 0, as well as the max and min both being 1, described a data set with an invariate independent variable, thus giving no information about how the dependent variable might react to perturbuations of the independent variable. The Linear Regression classifier was forced to predict only the baseline estimates."
   ]
  },
  {
   "cell_type": "markdown",
   "metadata": {},
   "source": [
    "## 2. Multivariate Linear Regression [50%]\n",
    "In this Section we will fit a Multivariate Linear Regression model (LinearRegression) to the dataset. In contrast to Part 1, we will now train a model with multiple explanatory variables and ascertain how they affect our ability to predict the retail price of a car. One of our foremost concerns will be to determine exactly which attributes to include in the model and which may be left out."
   ]
  },
  {
   "cell_type": "markdown",
   "metadata": {},
   "source": [
    "### ========== Question 2.1 ==========\n",
    "Use the original dataset (`auto_numeric`) and a visualisation tool of your choice to examine whether or not any of the other attributes are particularly good at predicting the price. Can you find any? Do any attributes appear useless at predicting the price? Do any attributes exhibit significant correlations? As you answer these questions, list two attributes for each question but do not modify the dataset at this stage. Of the attributes you listed, which ones could you safely remove? Explain in 4-5 sentences. *Hint: you might find seaborn's [`pairplot`](https://seaborn.github.io/generated/seaborn.pairplot.html?highlight=pairplot#seaborn.pairplot) function useful for this question.*"
   ]
  },
  {
   "cell_type": "code",
   "execution_count": 52,
   "metadata": {},
   "outputs": [
    {
     "data": {
      "image/png": "[encoded data removed]",
      "text/plain": [
       "<matplotlib.figure.Figure at 0x7f843e6c13c8>"
      ]
     },
     "metadata": {},
     "output_type": "display_data"
    }
   ],
   "source": [
    "# Your code goes here\n",
    "sns.pairplot(data=auto_numeric, x_vars=auto_numeric.columns, y_vars=\"price\")\n",
    "plt.show()"
   ]
  },
  {
   "cell_type": "markdown",
   "metadata": {},
   "source": [
    "A: I apologize for the plots being difficult to read, but we are most interested in the shape of the above graphs. Each plot has a different attribute on its xaxis (except the rightmost, which has the target values), and the yaxis for all of the plots is the price. The most useless seem to be mean-effective-pressure (third from the right) and height (fifth from the left) because of the degree of scatter. These seem most likely to have a correlation coefficient of 0 and I would be most inclined to remove these. I would also consider removing the torque (second from the right) for fear that it would cause the same problems as viewed in the right subplot of Q1.23. Engine-size (sixth from the left) seems to show the strongest correlation, but height (third from the left) and width (fourth from the left) also show some positive correlatoin while city-mpg (fifth from the right) and highway-mpg (fourth from the right seem to show some negative correlation despite my intuition that a larger mpgs would be more expensive rather than less expensive."
   ]
  },
  {
   "cell_type": "markdown",
   "metadata": {},
   "source": [
    "### ========== Question 2.2 ==========\n",
    "We will now make a first attempt at building a Multivariate Linear Regression model using all numeric attributes. Initialise a `LinearRegression` model and predict the output by using 5-fold cross-validation and the `cross_val_predict` function."
   ]
  },
  {
   "cell_type": "code",
   "execution_count": 53,
   "metadata": {
    "collapsed": true
   },
   "outputs": [],
   "source": [
    "# Your code goes here\n",
    "lm_cv = LinearRegression(normalize=True)\n",
    "X_mv = auto_numeric.drop(['price'], axis=1)\n",
    "y_mv = auto_numeric['price']\n",
    "y_pred_mv = cross_val_predict(lm_cv, X_mv, y=y_mv, cv=kf)"
   ]
  },
  {
   "cell_type": "markdown",
   "metadata": {},
   "source": [
    "### ========== Question 2.3 ==========\n",
    "Display the Root Mean Squared Error (RMSE), Mean Absolute Error (MAE) and Correlation Coefficient (CC)."
   ]
  },
  {
   "cell_type": "code",
   "execution_count": 54,
   "metadata": {},
   "outputs": [
    {
     "name": "stdout",
     "output_type": "stream",
     "text": [
      "R^2 value = 0.486\n",
      "Root Mean Squared Error (RMSE) = 4,819.80\n",
      "Mean Absolute Error (MAE) = 3,050.34\n",
      "Correlation Coefficient from corrcoef = 0.743\n"
     ]
    }
   ],
   "source": [
    "# Your code goes here\n",
    "R2_mv = r2_score(y_true=y_mv, y_pred=y_pred_mv)\n",
    "print (\"R^2 value = {:,.3f}\".format(R2_mv))\n",
    "MSE_mv = mean_squared_error(y_true=y_mv, y_pred=y_pred_mv)\n",
    "print (\"Root Mean Squared Error (RMSE) = {:,.2f}\".format(sqrt(MSE_mv)))\n",
    "print (\"Mean Absolute Error (MAE) = {:,.2f}\".format(mean_absolute_error(y_true=y_mv, y_pred=y_pred_mv)))\n",
    "print (\"Correlation Coefficient from corrcoef = {:,.3f}\".format(np.corrcoef(y_mv, y_pred_mv)[1,0]))"
   ]
  },
  {
   "cell_type": "markdown",
   "metadata": {},
   "source": [
    "### ========== Question 2.4 ==========\n",
    " Comment on each metric display above in comparison to what you have obtained for the Simple Linear Regression model in Question 1.19."
   ]
  },
  {
   "cell_type": "markdown",
   "metadata": {},
   "source": [
    "A: The R^2 and CC values have both increased significantly from the univariate model in 1.19, suggesting a much better fit. Similarly, the RMSE and MAE values have decreased, indicating a smaller difference (error) between the predicted values and the true values, ergo a better fit. The spread betewen the RMSE and MAE suggests that a few outliers (or very skewed data) are still compromising the accuracy of the fit."
   ]
  },
  {
   "cell_type": "markdown",
   "metadata": {},
   "source": [
    "### ========== Question 2.5 ==========\n",
    "Examine the histogram for the `engine-size` attribute. Choose a sensible value for the number of bins in the histogram. Label axes appropriately and include a title in your plot."
   ]
  },
  {
   "cell_type": "code",
   "execution_count": 55,
   "metadata": {},
   "outputs": [
    {
     "data": {
      "image/png": "[encoded data removed]",
      "text/plain": [
       "<matplotlib.figure.Figure at 0x7f843e379898>"
      ]
     },
     "metadata": {},
     "output_type": "display_data"
    }
   ],
   "source": [
    "# Your code goes here\n",
    "# As explained above I would usually use ~13 bins but 18 fit nicely given\n",
    "# the max engine size of ~180\n",
    "plt.hist(auto_numeric[\"engine-size\"], bins=18)\n",
    "plt.xlabel(\"Engine Size\")\n",
    "plt.ylabel(\"Number of Occurences in Dataset\")\n",
    "plt.title(\"Frequency Distribution of Engine Sizes\")\n",
    "plt.show()"
   ]
  },
  {
   "cell_type": "markdown",
   "metadata": {},
   "source": [
    "### ========== Question 2.6 ==========\n",
    "Is the distribution expected to cause a problem for regression? Explain your answer in 2-3 sentences."
   ]
  },
  {
   "cell_type": "markdown",
   "metadata": {},
   "source": [
    "A: Linear Regression in its most basic form (i.e. the Linear Regression that we used in 2.2) only accurately predicts output values if there is a somewhat linear relationship between the regressors and the output value. Assuming that embarrassing outliers have already been removed in the preprocessing, the extremely right-skewed distribution above suggests a non-linear relationship between engine sizes and price. Without some kind of additional transformation (e.g. log), a pure linear regression will probably do a poor job of predicting values."
   ]
  },
  {
   "cell_type": "markdown",
   "metadata": {},
   "source": [
    "### ========== Question 2.7 ==========\n",
    "Transform this attribute using an appropriate simple technique from the lectures. Plot the histogram of the transformed attribute."
   ]
  },
  {
   "cell_type": "code",
   "execution_count": 56,
   "metadata": {},
   "outputs": [
    {
     "data": {
      "image/png": "[encoded data removed]",
      "text/plain": [
       "<matplotlib.figure.Figure at 0x7f843e290978>"
      ]
     },
     "metadata": {},
     "output_type": "display_data"
    }
   ],
   "source": [
    "# Your code goes here\n",
    "for i in range (auto_numeric[\"engine-size\"].shape[0]):\n",
    "    elt = auto_numeric[\"engine-size\"][i]\n",
    "    # I chose base 10 because it somewhat subjectively seemed to give a better distribution than base 2 and natural log\n",
    "    elt = log(elt, 10)\n",
    "    auto_numeric[\"engine-size\"][i] = elt\n",
    "plt.hist(auto_numeric[\"engine-size\"], bins=18)\n",
    "plt.xlabel(\"Engine Size\")\n",
    "plt.ylabel(\"Number of Occurences in Dataset\")\n",
    "plt.title(\"Frequency Distribution of Engine Sizes\")\n",
    "plt.show()"
   ]
  },
  {
   "cell_type": "markdown",
   "metadata": {},
   "source": [
    "### ========== Question 2.8 ==========\n",
    "Now re-build a Linear Regression model on the transformed dataset and report the R^2, RMSE, MAE and CC metrics."
   ]
  },
  {
   "cell_type": "code",
   "execution_count": 57,
   "metadata": {},
   "outputs": [
    {
     "name": "stdout",
     "output_type": "stream",
     "text": [
      "R^2 value = 0.690\n",
      "Root Mean Squared Error (RMSE) = 3,745.92\n",
      "Mean Absolute Error (MAE) = 2,668.36\n",
      "Correlation Coefficient from corrcoef = 0.832\n"
     ]
    }
   ],
   "source": [
    "# Your code goes here\n",
    "# Same code as Q2.2/2.3\n",
    "lm_cv = LinearRegression(normalize=True)\n",
    "X_mv = auto_numeric.drop(['price'], axis=1)\n",
    "y_mv = auto_numeric['price']\n",
    "y_pred_mv = cross_val_predict(lm_cv, X_mv, y=y_mv, cv=kf)\n",
    "R2_mv = r2_score(y_true=y_mv, y_pred=y_pred_mv)\n",
    "print (\"R^2 value = {:,.3f}\".format(R2_mv))\n",
    "MSE_mv = mean_squared_error(y_true=y_mv, y_pred=y_pred_mv)\n",
    "print (\"Root Mean Squared Error (RMSE) = {:,.2f}\".format(sqrt(MSE_mv)))\n",
    "print (\"Mean Absolute Error (MAE) = {:,.2f}\".format(mean_absolute_error(y_true=y_mv, y_pred=y_pred_mv)))\n",
    "print (\"Correlation Coefficient from corrcoef = {:,.3f}\".format(np.corrcoef(y_mv, y_pred_mv)[1,0]))"
   ]
  },
  {
   "cell_type": "markdown",
   "metadata": {},
   "source": [
    "### ========== Question 2.9 ==========\n",
    "How has the performance of your model changed? Explain your answer in 1-2 sentences."
   ]
  },
  {
   "cell_type": "markdown",
   "metadata": {},
   "source": [
    "A: All metrics show improved fit: R^2 and CC have both increased suggesting a stronger linearity of the model. RMSE and MAE have both decreased, meaning a smaller average error of predictions, and the interval between the two has decreased suggesting data that is better distributed for a linear regression."
   ]
  },
  {
   "cell_type": "markdown",
   "metadata": {},
   "source": [
    "### ========== Question 2.10 ==========\n",
    "So far we have performed regression with numeric attributes. We will now attempt to integrate nominal (categorical) attributes into our regression model. \n",
    "Load the dataset `train_auto_full.csv` into a pandas DataFrame called `auto_full`. Display the number of samples and attributes in the dataset. Also, display the first 20 instances of the dataset. *Hint: Execute the cell below to change the default for `max_columns` display option in pandas.*"
   ]
  },
  {
   "cell_type": "code",
   "execution_count": 58,
   "metadata": {
    "collapsed": true
   },
   "outputs": [],
   "source": [
    "pd.set_option('max_columns', 30)"
   ]
  },
  {
   "cell_type": "code",
   "execution_count": 59,
   "metadata": {},
   "outputs": [
    {
     "name": "stdout",
     "output_type": "stream",
     "text": [
      "Total number of datapoints: 159\n",
      "Total number of attributes: 26\n"
     ]
    },
    {
     "data": {
      "text/html": [
       "<div>\n",
       "<style>\n",
       "    .dataframe thead tr:only-child th {\n",
       "        text-align: right;\n",
       "    }\n",
       "\n",
       "    .dataframe thead th {\n",
       "        text-align: left;\n",
       "    }\n",
       "\n",
       "    .dataframe tbody tr th {\n",
       "        vertical-align: top;\n",
       "    }\n",
       "</style>\n",
       "<table border=\"1\" class=\"dataframe\">\n",
       "  <thead>\n",
       "    <tr style=\"text-align: right;\">\n",
       "      <th></th>\n",
       "      <th>normalized-losses</th>\n",
       "      <th>make</th>\n",
       "      <th>fuel-type</th>\n",
       "      <th>aspiration</th>\n",
       "      <th>num-of-doors</th>\n",
       "      <th>body-style</th>\n",
       "      <th>drive-wheels</th>\n",
       "      <th>engine-location</th>\n",
       "      <th>wheel-base</th>\n",
       "      <th>length</th>\n",
       "      <th>width</th>\n",
       "      <th>height</th>\n",
       "      <th>engine-type</th>\n",
       "      <th>num-of-cylinders</th>\n",
       "      <th>engine-size</th>\n",
       "      <th>fuel-system</th>\n",
       "      <th>bore</th>\n",
       "      <th>stroke</th>\n",
       "      <th>compression-ratio</th>\n",
       "      <th>engine-power</th>\n",
       "      <th>peak-rpm</th>\n",
       "      <th>city-mpg</th>\n",
       "      <th>highway-mpg</th>\n",
       "      <th>symboling</th>\n",
       "      <th>mean-effective-pressure</th>\n",
       "      <th>torque</th>\n",
       "      <th>price</th>\n",
       "    </tr>\n",
       "  </thead>\n",
       "  <tbody>\n",
       "    <tr>\n",
       "      <th>0</th>\n",
       "      <td>164.0</td>\n",
       "      <td>audi</td>\n",
       "      <td>gas</td>\n",
       "      <td>std</td>\n",
       "      <td>4</td>\n",
       "      <td>sedan</td>\n",
       "      <td>fwd</td>\n",
       "      <td>front</td>\n",
       "      <td>99.8</td>\n",
       "      <td>176.6</td>\n",
       "      <td>66.2</td>\n",
       "      <td>54.3</td>\n",
       "      <td>ohc</td>\n",
       "      <td>4</td>\n",
       "      <td>8.85</td>\n",
       "      <td>mpfi</td>\n",
       "      <td>3.19</td>\n",
       "      <td>3.40</td>\n",
       "      <td>10.00</td>\n",
       "      <td>102000.0</td>\n",
       "      <td>5500.0</td>\n",
       "      <td>24.0</td>\n",
       "      <td>30.0</td>\n",
       "      <td>2</td>\n",
       "      <td>40.52</td>\n",
       "      <td>57.68</td>\n",
       "      <td>13950.0</td>\n",
       "    </tr>\n",
       "    <tr>\n",
       "      <th>1</th>\n",
       "      <td>110.0</td>\n",
       "      <td>audi</td>\n",
       "      <td>gas</td>\n",
       "      <td>std</td>\n",
       "      <td>4</td>\n",
       "      <td>sedan</td>\n",
       "      <td>4wd</td>\n",
       "      <td>front</td>\n",
       "      <td>99.4</td>\n",
       "      <td>162.4</td>\n",
       "      <td>66.4</td>\n",
       "      <td>54.3</td>\n",
       "      <td>ohc</td>\n",
       "      <td>5</td>\n",
       "      <td>15.18</td>\n",
       "      <td>mpfi</td>\n",
       "      <td>3.19</td>\n",
       "      <td>3.40</td>\n",
       "      <td>8.00</td>\n",
       "      <td>115000.0</td>\n",
       "      <td>5500.0</td>\n",
       "      <td>18.0</td>\n",
       "      <td>22.0</td>\n",
       "      <td>2</td>\n",
       "      <td>47.39</td>\n",
       "      <td>59.59</td>\n",
       "      <td>17450.0</td>\n",
       "    </tr>\n",
       "    <tr>\n",
       "      <th>2</th>\n",
       "      <td>158.0</td>\n",
       "      <td>audi</td>\n",
       "      <td>gas</td>\n",
       "      <td>std</td>\n",
       "      <td>4</td>\n",
       "      <td>sedan</td>\n",
       "      <td>fwd</td>\n",
       "      <td>front</td>\n",
       "      <td>105.8</td>\n",
       "      <td>192.7</td>\n",
       "      <td>71.4</td>\n",
       "      <td>51.6</td>\n",
       "      <td>ohc</td>\n",
       "      <td>5</td>\n",
       "      <td>15.18</td>\n",
       "      <td>mpfi</td>\n",
       "      <td>3.94</td>\n",
       "      <td>2.80</td>\n",
       "      <td>8.50</td>\n",
       "      <td>70000.0</td>\n",
       "      <td>4400.0</td>\n",
       "      <td>28.0</td>\n",
       "      <td>30.0</td>\n",
       "      <td>1</td>\n",
       "      <td>0.85</td>\n",
       "      <td>3344.79</td>\n",
       "      <td>17710.0</td>\n",
       "    </tr>\n",
       "    <tr>\n",
       "      <th>3</th>\n",
       "      <td>106.0</td>\n",
       "      <td>audi</td>\n",
       "      <td>gas</td>\n",
       "      <td>turbo</td>\n",
       "      <td>4</td>\n",
       "      <td>sedan</td>\n",
       "      <td>fwd</td>\n",
       "      <td>front</td>\n",
       "      <td>86.6</td>\n",
       "      <td>158.7</td>\n",
       "      <td>67.7</td>\n",
       "      <td>55.9</td>\n",
       "      <td>ohc</td>\n",
       "      <td>5</td>\n",
       "      <td>13.74</td>\n",
       "      <td>mpfi</td>\n",
       "      <td>3.13</td>\n",
       "      <td>3.50</td>\n",
       "      <td>7.80</td>\n",
       "      <td>140000.0</td>\n",
       "      <td>5600.0</td>\n",
       "      <td>32.0</td>\n",
       "      <td>20.0</td>\n",
       "      <td>1</td>\n",
       "      <td>44.74</td>\n",
       "      <td>68.97</td>\n",
       "      <td>23875.0</td>\n",
       "    </tr>\n",
       "    <tr>\n",
       "      <th>4</th>\n",
       "      <td>192.0</td>\n",
       "      <td>bmw</td>\n",
       "      <td>gas</td>\n",
       "      <td>std</td>\n",
       "      <td>2</td>\n",
       "      <td>sedan</td>\n",
       "      <td>rwd</td>\n",
       "      <td>front</td>\n",
       "      <td>101.2</td>\n",
       "      <td>176.8</td>\n",
       "      <td>64.8</td>\n",
       "      <td>54.3</td>\n",
       "      <td>ohc</td>\n",
       "      <td>4</td>\n",
       "      <td>8.67</td>\n",
       "      <td>mpfi</td>\n",
       "      <td>3.50</td>\n",
       "      <td>2.80</td>\n",
       "      <td>8.80</td>\n",
       "      <td>101000.0</td>\n",
       "      <td>5800.0</td>\n",
       "      <td>23.0</td>\n",
       "      <td>29.0</td>\n",
       "      <td>2</td>\n",
       "      <td>44.78</td>\n",
       "      <td>53.48</td>\n",
       "      <td>16430.0</td>\n",
       "    </tr>\n",
       "    <tr>\n",
       "      <th>5</th>\n",
       "      <td>194.0</td>\n",
       "      <td>bmw</td>\n",
       "      <td>gas</td>\n",
       "      <td>std</td>\n",
       "      <td>4</td>\n",
       "      <td>sedan</td>\n",
       "      <td>rwd</td>\n",
       "      <td>front</td>\n",
       "      <td>110.0</td>\n",
       "      <td>190.9</td>\n",
       "      <td>71.4</td>\n",
       "      <td>58.7</td>\n",
       "      <td>ohc</td>\n",
       "      <td>4</td>\n",
       "      <td>8.67</td>\n",
       "      <td>mpfi</td>\n",
       "      <td>3.78</td>\n",
       "      <td>3.90</td>\n",
       "      <td>22.50</td>\n",
       "      <td>101000.0</td>\n",
       "      <td>6000.0</td>\n",
       "      <td>47.0</td>\n",
       "      <td>53.0</td>\n",
       "      <td>0</td>\n",
       "      <td>1.80</td>\n",
       "      <td>1330.28</td>\n",
       "      <td>16925.0</td>\n",
       "    </tr>\n",
       "    <tr>\n",
       "      <th>6</th>\n",
       "      <td>188.0</td>\n",
       "      <td>bmw</td>\n",
       "      <td>gas</td>\n",
       "      <td>std</td>\n",
       "      <td>2</td>\n",
       "      <td>sedan</td>\n",
       "      <td>rwd</td>\n",
       "      <td>front</td>\n",
       "      <td>101.2</td>\n",
       "      <td>176.8</td>\n",
       "      <td>64.8</td>\n",
       "      <td>54.3</td>\n",
       "      <td>ohc</td>\n",
       "      <td>6</td>\n",
       "      <td>26.58</td>\n",
       "      <td>mpfi</td>\n",
       "      <td>3.31</td>\n",
       "      <td>3.19</td>\n",
       "      <td>9.00</td>\n",
       "      <td>121000.0</td>\n",
       "      <td>4250.0</td>\n",
       "      <td>21.0</td>\n",
       "      <td>28.0</td>\n",
       "      <td>0</td>\n",
       "      <td>7.19</td>\n",
       "      <td>377.06</td>\n",
       "      <td>20970.0</td>\n",
       "    </tr>\n",
       "    <tr>\n",
       "      <th>7</th>\n",
       "      <td>150.0</td>\n",
       "      <td>bmw</td>\n",
       "      <td>gas</td>\n",
       "      <td>std</td>\n",
       "      <td>4</td>\n",
       "      <td>sedan</td>\n",
       "      <td>rwd</td>\n",
       "      <td>front</td>\n",
       "      <td>101.2</td>\n",
       "      <td>176.8</td>\n",
       "      <td>64.8</td>\n",
       "      <td>56.1</td>\n",
       "      <td>ohc</td>\n",
       "      <td>6</td>\n",
       "      <td>26.58</td>\n",
       "      <td>mpfi</td>\n",
       "      <td>3.03</td>\n",
       "      <td>3.19</td>\n",
       "      <td>8.00</td>\n",
       "      <td>134000.0</td>\n",
       "      <td>4400.0</td>\n",
       "      <td>28.0</td>\n",
       "      <td>37.0</td>\n",
       "      <td>0</td>\n",
       "      <td>57.37</td>\n",
       "      <td>48.20</td>\n",
       "      <td>21105.0</td>\n",
       "    </tr>\n",
       "    <tr>\n",
       "      <th>8</th>\n",
       "      <td>121.0</td>\n",
       "      <td>chevrolet</td>\n",
       "      <td>gas</td>\n",
       "      <td>std</td>\n",
       "      <td>2</td>\n",
       "      <td>hatchback</td>\n",
       "      <td>fwd</td>\n",
       "      <td>front</td>\n",
       "      <td>88.4</td>\n",
       "      <td>141.1</td>\n",
       "      <td>60.3</td>\n",
       "      <td>53.2</td>\n",
       "      <td>l</td>\n",
       "      <td>3</td>\n",
       "      <td>3.39</td>\n",
       "      <td>2bbl</td>\n",
       "      <td>3.03</td>\n",
       "      <td>3.03</td>\n",
       "      <td>9.50</td>\n",
       "      <td>48000.0</td>\n",
       "      <td>5300.0</td>\n",
       "      <td>47.0</td>\n",
       "      <td>53.0</td>\n",
       "      <td>2</td>\n",
       "      <td>59.33</td>\n",
       "      <td>25.08</td>\n",
       "      <td>5151.0</td>\n",
       "    </tr>\n",
       "    <tr>\n",
       "      <th>9</th>\n",
       "      <td>98.0</td>\n",
       "      <td>chevrolet</td>\n",
       "      <td>gas</td>\n",
       "      <td>std</td>\n",
       "      <td>2</td>\n",
       "      <td>hatchback</td>\n",
       "      <td>fwd</td>\n",
       "      <td>front</td>\n",
       "      <td>104.3</td>\n",
       "      <td>155.9</td>\n",
       "      <td>68.3</td>\n",
       "      <td>52.0</td>\n",
       "      <td>ohc</td>\n",
       "      <td>4</td>\n",
       "      <td>6.05</td>\n",
       "      <td>2bbl</td>\n",
       "      <td>3.31</td>\n",
       "      <td>3.47</td>\n",
       "      <td>7.80</td>\n",
       "      <td>70000.0</td>\n",
       "      <td>5000.0</td>\n",
       "      <td>34.0</td>\n",
       "      <td>34.0</td>\n",
       "      <td>1</td>\n",
       "      <td>51.55</td>\n",
       "      <td>36.35</td>\n",
       "      <td>6295.0</td>\n",
       "    </tr>\n",
       "    <tr>\n",
       "      <th>10</th>\n",
       "      <td>93.0</td>\n",
       "      <td>chevrolet</td>\n",
       "      <td>gas</td>\n",
       "      <td>std</td>\n",
       "      <td>4</td>\n",
       "      <td>sedan</td>\n",
       "      <td>fwd</td>\n",
       "      <td>front</td>\n",
       "      <td>94.5</td>\n",
       "      <td>158.8</td>\n",
       "      <td>63.6</td>\n",
       "      <td>52.0</td>\n",
       "      <td>ohc</td>\n",
       "      <td>4</td>\n",
       "      <td>6.05</td>\n",
       "      <td>2bbl</td>\n",
       "      <td>3.03</td>\n",
       "      <td>3.11</td>\n",
       "      <td>9.60</td>\n",
       "      <td>70000.0</td>\n",
       "      <td>5400.0</td>\n",
       "      <td>38.0</td>\n",
       "      <td>43.0</td>\n",
       "      <td>0</td>\n",
       "      <td>65.57</td>\n",
       "      <td>29.11</td>\n",
       "      <td>6575.0</td>\n",
       "    </tr>\n",
       "    <tr>\n",
       "      <th>11</th>\n",
       "      <td>231.0</td>\n",
       "      <td>dodge</td>\n",
       "      <td>gas</td>\n",
       "      <td>std</td>\n",
       "      <td>2</td>\n",
       "      <td>hatchback</td>\n",
       "      <td>fwd</td>\n",
       "      <td>front</td>\n",
       "      <td>113.0</td>\n",
       "      <td>199.6</td>\n",
       "      <td>71.4</td>\n",
       "      <td>59.1</td>\n",
       "      <td>ohc</td>\n",
       "      <td>4</td>\n",
       "      <td>6.05</td>\n",
       "      <td>2bbl</td>\n",
       "      <td>3.78</td>\n",
       "      <td>4.17</td>\n",
       "      <td>9.41</td>\n",
       "      <td>176000.0</td>\n",
       "      <td>6600.0</td>\n",
       "      <td>49.0</td>\n",
       "      <td>54.0</td>\n",
       "      <td>1</td>\n",
       "      <td>93.12</td>\n",
       "      <td>20.15</td>\n",
       "      <td>5572.0</td>\n",
       "    </tr>\n",
       "    <tr>\n",
       "      <th>12</th>\n",
       "      <td>118.0</td>\n",
       "      <td>dodge</td>\n",
       "      <td>gas</td>\n",
       "      <td>std</td>\n",
       "      <td>2</td>\n",
       "      <td>hatchback</td>\n",
       "      <td>fwd</td>\n",
       "      <td>front</td>\n",
       "      <td>93.7</td>\n",
       "      <td>174.6</td>\n",
       "      <td>63.8</td>\n",
       "      <td>49.4</td>\n",
       "      <td>ohc</td>\n",
       "      <td>4</td>\n",
       "      <td>6.05</td>\n",
       "      <td>2bbl</td>\n",
       "      <td>2.97</td>\n",
       "      <td>3.23</td>\n",
       "      <td>21.50</td>\n",
       "      <td>68000.0</td>\n",
       "      <td>5500.0</td>\n",
       "      <td>31.0</td>\n",
       "      <td>38.0</td>\n",
       "      <td>1</td>\n",
       "      <td>12.28</td>\n",
       "      <td>152.80</td>\n",
       "      <td>6377.0</td>\n",
       "    </tr>\n",
       "    <tr>\n",
       "      <th>13</th>\n",
       "      <td>118.0</td>\n",
       "      <td>dodge</td>\n",
       "      <td>gas</td>\n",
       "      <td>turbo</td>\n",
       "      <td>2</td>\n",
       "      <td>hatchback</td>\n",
       "      <td>fwd</td>\n",
       "      <td>front</td>\n",
       "      <td>93.7</td>\n",
       "      <td>157.3</td>\n",
       "      <td>63.8</td>\n",
       "      <td>50.8</td>\n",
       "      <td>ohc</td>\n",
       "      <td>4</td>\n",
       "      <td>7.10</td>\n",
       "      <td>mpfi</td>\n",
       "      <td>3.03</td>\n",
       "      <td>3.39</td>\n",
       "      <td>7.60</td>\n",
       "      <td>102000.0</td>\n",
       "      <td>5500.0</td>\n",
       "      <td>24.0</td>\n",
       "      <td>30.0</td>\n",
       "      <td>1</td>\n",
       "      <td>28.80</td>\n",
       "      <td>73.88</td>\n",
       "      <td>7957.0</td>\n",
       "    </tr>\n",
       "    <tr>\n",
       "      <th>14</th>\n",
       "      <td>197.0</td>\n",
       "      <td>dodge</td>\n",
       "      <td>gas</td>\n",
       "      <td>std</td>\n",
       "      <td>4</td>\n",
       "      <td>hatchback</td>\n",
       "      <td>fwd</td>\n",
       "      <td>front</td>\n",
       "      <td>110.0</td>\n",
       "      <td>192.7</td>\n",
       "      <td>71.4</td>\n",
       "      <td>58.7</td>\n",
       "      <td>ohc</td>\n",
       "      <td>4</td>\n",
       "      <td>6.05</td>\n",
       "      <td>2bbl</td>\n",
       "      <td>3.78</td>\n",
       "      <td>3.90</td>\n",
       "      <td>22.50</td>\n",
       "      <td>162000.0</td>\n",
       "      <td>6000.0</td>\n",
       "      <td>47.0</td>\n",
       "      <td>53.0</td>\n",
       "      <td>1</td>\n",
       "      <td>47.53</td>\n",
       "      <td>41.38</td>\n",
       "      <td>6229.0</td>\n",
       "    </tr>\n",
       "    <tr>\n",
       "      <th>15</th>\n",
       "      <td>148.0</td>\n",
       "      <td>dodge</td>\n",
       "      <td>gas</td>\n",
       "      <td>std</td>\n",
       "      <td>4</td>\n",
       "      <td>sedan</td>\n",
       "      <td>fwd</td>\n",
       "      <td>front</td>\n",
       "      <td>93.7</td>\n",
       "      <td>157.3</td>\n",
       "      <td>63.8</td>\n",
       "      <td>50.6</td>\n",
       "      <td>ohc</td>\n",
       "      <td>4</td>\n",
       "      <td>6.05</td>\n",
       "      <td>2bbl</td>\n",
       "      <td>2.97</td>\n",
       "      <td>3.23</td>\n",
       "      <td>9.40</td>\n",
       "      <td>68000.0</td>\n",
       "      <td>5500.0</td>\n",
       "      <td>31.0</td>\n",
       "      <td>38.0</td>\n",
       "      <td>1</td>\n",
       "      <td>14.59</td>\n",
       "      <td>136.33</td>\n",
       "      <td>6692.0</td>\n",
       "    </tr>\n",
       "    <tr>\n",
       "      <th>16</th>\n",
       "      <td>148.0</td>\n",
       "      <td>dodge</td>\n",
       "      <td>gas</td>\n",
       "      <td>std</td>\n",
       "      <td>4</td>\n",
       "      <td>sedan</td>\n",
       "      <td>fwd</td>\n",
       "      <td>front</td>\n",
       "      <td>93.7</td>\n",
       "      <td>157.3</td>\n",
       "      <td>63.8</td>\n",
       "      <td>50.6</td>\n",
       "      <td>ohc</td>\n",
       "      <td>4</td>\n",
       "      <td>6.05</td>\n",
       "      <td>2bbl</td>\n",
       "      <td>2.97</td>\n",
       "      <td>3.23</td>\n",
       "      <td>9.40</td>\n",
       "      <td>68000.0</td>\n",
       "      <td>5500.0</td>\n",
       "      <td>31.0</td>\n",
       "      <td>38.0</td>\n",
       "      <td>1</td>\n",
       "      <td>4.07</td>\n",
       "      <td>488.77</td>\n",
       "      <td>7609.0</td>\n",
       "    </tr>\n",
       "    <tr>\n",
       "      <th>17</th>\n",
       "      <td>110.0</td>\n",
       "      <td>dodge</td>\n",
       "      <td>gas</td>\n",
       "      <td>std</td>\n",
       "      <td>4</td>\n",
       "      <td>wagon</td>\n",
       "      <td>fwd</td>\n",
       "      <td>front</td>\n",
       "      <td>103.3</td>\n",
       "      <td>174.6</td>\n",
       "      <td>64.6</td>\n",
       "      <td>59.8</td>\n",
       "      <td>ohc</td>\n",
       "      <td>4</td>\n",
       "      <td>11.47</td>\n",
       "      <td>2bbl</td>\n",
       "      <td>3.34</td>\n",
       "      <td>3.46</td>\n",
       "      <td>8.50</td>\n",
       "      <td>88000.0</td>\n",
       "      <td>5000.0</td>\n",
       "      <td>24.0</td>\n",
       "      <td>30.0</td>\n",
       "      <td>-1</td>\n",
       "      <td>76.69</td>\n",
       "      <td>33.05</td>\n",
       "      <td>8921.0</td>\n",
       "    </tr>\n",
       "    <tr>\n",
       "      <th>18</th>\n",
       "      <td>118.0</td>\n",
       "      <td>dodge</td>\n",
       "      <td>gas</td>\n",
       "      <td>turbo</td>\n",
       "      <td>2</td>\n",
       "      <td>hatchback</td>\n",
       "      <td>fwd</td>\n",
       "      <td>front</td>\n",
       "      <td>95.9</td>\n",
       "      <td>173.2</td>\n",
       "      <td>66.3</td>\n",
       "      <td>50.2</td>\n",
       "      <td>ohc</td>\n",
       "      <td>4</td>\n",
       "      <td>22.65</td>\n",
       "      <td>mfi</td>\n",
       "      <td>3.60</td>\n",
       "      <td>3.90</td>\n",
       "      <td>7.00</td>\n",
       "      <td>145000.0</td>\n",
       "      <td>5000.0</td>\n",
       "      <td>19.0</td>\n",
       "      <td>24.0</td>\n",
       "      <td>3</td>\n",
       "      <td>24.17</td>\n",
       "      <td>116.32</td>\n",
       "      <td>12964.0</td>\n",
       "    </tr>\n",
       "    <tr>\n",
       "      <th>19</th>\n",
       "      <td>137.0</td>\n",
       "      <td>honda</td>\n",
       "      <td>gas</td>\n",
       "      <td>std</td>\n",
       "      <td>2</td>\n",
       "      <td>hatchback</td>\n",
       "      <td>fwd</td>\n",
       "      <td>front</td>\n",
       "      <td>86.6</td>\n",
       "      <td>144.6</td>\n",
       "      <td>63.9</td>\n",
       "      <td>50.8</td>\n",
       "      <td>ohc</td>\n",
       "      <td>4</td>\n",
       "      <td>6.30</td>\n",
       "      <td>1bbl</td>\n",
       "      <td>2.91</td>\n",
       "      <td>3.41</td>\n",
       "      <td>9.60</td>\n",
       "      <td>58000.0</td>\n",
       "      <td>4800.0</td>\n",
       "      <td>49.0</td>\n",
       "      <td>54.0</td>\n",
       "      <td>2</td>\n",
       "      <td>51.27</td>\n",
       "      <td>33.41</td>\n",
       "      <td>6479.0</td>\n",
       "    </tr>\n",
       "  </tbody>\n",
       "</table>\n",
       "</div>"
      ],
      "text/plain": [
       "    normalized-losses       make fuel-type aspiration  num-of-doors  \\\n",
       "0               164.0       audi       gas        std             4   \n",
       "1               110.0       audi       gas        std             4   \n",
       "2               158.0       audi       gas        std             4   \n",
       "3               106.0       audi       gas      turbo             4   \n",
       "4               192.0        bmw       gas        std             2   \n",
       "5               194.0        bmw       gas        std             4   \n",
       "6               188.0        bmw       gas        std             2   \n",
       "7               150.0        bmw       gas        std             4   \n",
       "8               121.0  chevrolet       gas        std             2   \n",
       "9                98.0  chevrolet       gas        std             2   \n",
       "10               93.0  chevrolet       gas        std             4   \n",
       "11              231.0      dodge       gas        std             2   \n",
       "12              118.0      dodge       gas        std             2   \n",
       "13              118.0      dodge       gas      turbo             2   \n",
       "14              197.0      dodge       gas        std             4   \n",
       "15              148.0      dodge       gas        std             4   \n",
       "16              148.0      dodge       gas        std             4   \n",
       "17              110.0      dodge       gas        std             4   \n",
       "18              118.0      dodge       gas      turbo             2   \n",
       "19              137.0      honda       gas        std             2   \n",
       "\n",
       "   body-style drive-wheels engine-location  wheel-base  length  width  height  \\\n",
       "0       sedan          fwd           front        99.8   176.6   66.2    54.3   \n",
       "1       sedan          4wd           front        99.4   162.4   66.4    54.3   \n",
       "2       sedan          fwd           front       105.8   192.7   71.4    51.6   \n",
       "3       sedan          fwd           front        86.6   158.7   67.7    55.9   \n",
       "4       sedan          rwd           front       101.2   176.8   64.8    54.3   \n",
       "5       sedan          rwd           front       110.0   190.9   71.4    58.7   \n",
       "6       sedan          rwd           front       101.2   176.8   64.8    54.3   \n",
       "7       sedan          rwd           front       101.2   176.8   64.8    56.1   \n",
       "8   hatchback          fwd           front        88.4   141.1   60.3    53.2   \n",
       "9   hatchback          fwd           front       104.3   155.9   68.3    52.0   \n",
       "10      sedan          fwd           front        94.5   158.8   63.6    52.0   \n",
       "11  hatchback          fwd           front       113.0   199.6   71.4    59.1   \n",
       "12  hatchback          fwd           front        93.7   174.6   63.8    49.4   \n",
       "13  hatchback          fwd           front        93.7   157.3   63.8    50.8   \n",
       "14  hatchback          fwd           front       110.0   192.7   71.4    58.7   \n",
       "15      sedan          fwd           front        93.7   157.3   63.8    50.6   \n",
       "16      sedan          fwd           front        93.7   157.3   63.8    50.6   \n",
       "17      wagon          fwd           front       103.3   174.6   64.6    59.8   \n",
       "18  hatchback          fwd           front        95.9   173.2   66.3    50.2   \n",
       "19  hatchback          fwd           front        86.6   144.6   63.9    50.8   \n",
       "\n",
       "   engine-type  num-of-cylinders  engine-size fuel-system  bore  stroke  \\\n",
       "0          ohc                 4         8.85        mpfi  3.19    3.40   \n",
       "1          ohc                 5        15.18        mpfi  3.19    3.40   \n",
       "2          ohc                 5        15.18        mpfi  3.94    2.80   \n",
       "3          ohc                 5        13.74        mpfi  3.13    3.50   \n",
       "4          ohc                 4         8.67        mpfi  3.50    2.80   \n",
       "5          ohc                 4         8.67        mpfi  3.78    3.90   \n",
       "6          ohc                 6        26.58        mpfi  3.31    3.19   \n",
       "7          ohc                 6        26.58        mpfi  3.03    3.19   \n",
       "8            l                 3         3.39        2bbl  3.03    3.03   \n",
       "9          ohc                 4         6.05        2bbl  3.31    3.47   \n",
       "10         ohc                 4         6.05        2bbl  3.03    3.11   \n",
       "11         ohc                 4         6.05        2bbl  3.78    4.17   \n",
       "12         ohc                 4         6.05        2bbl  2.97    3.23   \n",
       "13         ohc                 4         7.10        mpfi  3.03    3.39   \n",
       "14         ohc                 4         6.05        2bbl  3.78    3.90   \n",
       "15         ohc                 4         6.05        2bbl  2.97    3.23   \n",
       "16         ohc                 4         6.05        2bbl  2.97    3.23   \n",
       "17         ohc                 4        11.47        2bbl  3.34    3.46   \n",
       "18         ohc                 4        22.65         mfi  3.60    3.90   \n",
       "19         ohc                 4         6.30        1bbl  2.91    3.41   \n",
       "\n",
       "    compression-ratio  engine-power  peak-rpm  city-mpg  highway-mpg  \\\n",
       "0               10.00      102000.0    5500.0      24.0         30.0   \n",
       "1                8.00      115000.0    5500.0      18.0         22.0   \n",
       "2                8.50       70000.0    4400.0      28.0         30.0   \n",
       "3                7.80      140000.0    5600.0      32.0         20.0   \n",
       "4                8.80      101000.0    5800.0      23.0         29.0   \n",
       "5               22.50      101000.0    6000.0      47.0         53.0   \n",
       "6                9.00      121000.0    4250.0      21.0         28.0   \n",
       "7                8.00      134000.0    4400.0      28.0         37.0   \n",
       "8                9.50       48000.0    5300.0      47.0         53.0   \n",
       "9                7.80       70000.0    5000.0      34.0         34.0   \n",
       "10               9.60       70000.0    5400.0      38.0         43.0   \n",
       "11               9.41      176000.0    6600.0      49.0         54.0   \n",
       "12              21.50       68000.0    5500.0      31.0         38.0   \n",
       "13               7.60      102000.0    5500.0      24.0         30.0   \n",
       "14              22.50      162000.0    6000.0      47.0         53.0   \n",
       "15               9.40       68000.0    5500.0      31.0         38.0   \n",
       "16               9.40       68000.0    5500.0      31.0         38.0   \n",
       "17               8.50       88000.0    5000.0      24.0         30.0   \n",
       "18               7.00      145000.0    5000.0      19.0         24.0   \n",
       "19               9.60       58000.0    4800.0      49.0         54.0   \n",
       "\n",
       "    symboling  mean-effective-pressure   torque    price  \n",
       "0           2                    40.52    57.68  13950.0  \n",
       "1           2                    47.39    59.59  17450.0  \n",
       "2           1                     0.85  3344.79  17710.0  \n",
       "3           1                    44.74    68.97  23875.0  \n",
       "4           2                    44.78    53.48  16430.0  \n",
       "5           0                     1.80  1330.28  16925.0  \n",
       "6           0                     7.19   377.06  20970.0  \n",
       "7           0                    57.37    48.20  21105.0  \n",
       "8           2                    59.33    25.08   5151.0  \n",
       "9           1                    51.55    36.35   6295.0  \n",
       "10          0                    65.57    29.11   6575.0  \n",
       "11          1                    93.12    20.15   5572.0  \n",
       "12          1                    12.28   152.80   6377.0  \n",
       "13          1                    28.80    73.88   7957.0  \n",
       "14          1                    47.53    41.38   6229.0  \n",
       "15          1                    14.59   136.33   6692.0  \n",
       "16          1                     4.07   488.77   7609.0  \n",
       "17         -1                    76.69    33.05   8921.0  \n",
       "18          3                    24.17   116.32  12964.0  \n",
       "19          2                    51.27    33.41   6479.0  "
      ]
     },
     "execution_count": 59,
     "metadata": {},
     "output_type": "execute_result"
    }
   ],
   "source": [
    "# Your code goes here\n",
    "data_path_full = os.path.join(os.getcwd(), 'datasets', 'train_auto_full.csv')\n",
    "auto_full = pd.read_csv(data_path_full, delimiter = ',')\n",
    "print (\"Total number of datapoints: {}\".format(auto_full.shape[0]))\n",
    "print (\"Total number of attributes: {}\".format(auto_full.shape[1]-1))\n",
    "auto_full.head(20)"
   ]
  },
  {
   "cell_type": "markdown",
   "metadata": {},
   "source": [
    "### ========== Question 2.11 ==========\n",
    "This dataset contains a mixture of numeric and nominal attributes. Name the variables that you think are categorical. Why can we not use the nominal attributes in their current form for the purposes of regression? "
   ]
  },
  {
   "cell_type": "markdown",
   "metadata": {},
   "source": [
    "A: Categorical attributes: make, fuel-type, aspiration, body-style, drive-wheels, engine-location, engine-type, fuel-system. These values are not ordered, so besides equality testing, operating on them mathematically as happens in linear regression carries no meaning. "
   ]
  },
  {
   "cell_type": "markdown",
   "metadata": {},
   "source": [
    "### ========== Question 2.12 ==========\n",
    "Now we want to convert the categorical variables by using [One-Hot-Encoding](http://scikit-learn.org/0.17/modules/generated/sklearn.preprocessing.OneHotEncoder.html#sklearn.preprocessing.OneHotEncoder). Familiriase yourself with the class. One limitation with this module is that it can deal only with categorical attributes in integer format (remember that in our example we have attributes in string format). \n",
    "\n",
    "Copy the `auto_full` dataframe into a new dataframe `auto_full_edit` and transform the categorical variables by using [Label Encoding](http://scikit-learn.org/0.17/modules/generated/sklearn.preprocessing.LabelEncoder.html). Then transform again the categorical variables by using One-Hot-Encoding. Make sure you don't transform the continuous variables. *Hint: make appropriate use of the `categorical_features` parameter in [`OneHotEncoder`](http://scikit-learn.org/0.17/modules/generated/sklearn.preprocessing.OneHotEncoder.html#sklearn.preprocessing.OneHotEncoder).*\n",
    "\n",
    "Store the transformed attributes into a numpy array `X_enc` and display its dimensionality.  \n"
   ]
  },
  {
   "cell_type": "code",
   "execution_count": 60,
   "metadata": {},
   "outputs": [
    {
     "name": "stdout",
     "output_type": "stream",
     "text": [
      "Shape of X_enc: (159, 59)\n"
     ]
    }
   ],
   "source": [
    "# Your code goes here\n",
    "auto_full_edit = auto_full.copy(deep=True)\n",
    "categorical_labels = [\"make\", \"fuel-type\", \"aspiration\", \"body-style\", \"drive-wheels\", \\\n",
    "                      \"engine-location\", \"engine-type\", \"fuel-system\"]\n",
    "for att in categorical_labels:\n",
    "    le = LabelEncoder()\n",
    "    le.fit(auto_full_edit[att])\n",
    "    auto_full_edit[att] = le.transform(auto_full_edit[att])\n",
    "X_enc = auto_full_edit.drop(\"price\", axis=1).as_matrix()\n",
    "ohe = OneHotEncoder(categorical_features=[1,2,3,4,5,7,12,15])\n",
    "ohe.fit(X_enc)\n",
    "X_enc = ohe.transform(X_enc)\n",
    "print (\"Shape of X_enc: {}\".format(X_enc.shape))"
   ]
  },
  {
   "cell_type": "markdown",
   "metadata": {},
   "source": [
    "### ========== Question 2.13 ==========\n",
    "By using the transformed data train a multivariate linear regression model and by using 5-fold cross-validation report the R^2, RMSE, MAE and CC metrics."
   ]
  },
  {
   "cell_type": "code",
   "execution_count": 61,
   "metadata": {},
   "outputs": [
    {
     "name": "stdout",
     "output_type": "stream",
     "text": [
      "R^2 value = 0.827\n",
      "Root Mean Squared Error (RMSE) = 2,795.01\n",
      "Mean Absolute Error (MAE) = 1,815.12\n",
      "Correlation Coefficient from corrcoef = 0.915\n"
     ]
    }
   ],
   "source": [
    "# Your code goes here\n",
    "# Same code as in 2.8 but with X_enc in cross_val_predict\n",
    "lm_cv = LinearRegression(normalize=True)\n",
    "y_mv = auto_full['price']\n",
    "y_pred_mv = cross_val_predict(lm_cv, X_enc, y=y_mv, cv=kf)\n",
    "R2_mv = r2_score(y_true=y_mv, y_pred=y_pred_mv)\n",
    "print (\"R^2 value = {:,.3f}\".format(R2_mv))\n",
    "MSE_mv = mean_squared_error(y_true=y_mv, y_pred=y_pred_mv)\n",
    "print (\"Root Mean Squared Error (RMSE) = {:,.2f}\".format(sqrt(MSE_mv)))\n",
    "print (\"Mean Absolute Error (MAE) = {:,.2f}\".format(mean_absolute_error(y_true=y_mv, y_pred=y_pred_mv)))\n",
    "print (\"Correlation Coefficient from corrcoef = {:,.3f}\".format(np.corrcoef(y_mv, y_pred_mv)[1,0]))"
   ]
  },
  {
   "cell_type": "markdown",
   "metadata": {},
   "source": [
    "### ========== Question 2.14 ==========\n",
    "How does this more complex model perform with respect to your best performing model from either question 2.3 or 2.8? List one advantage and one disadvantage of using the more complex model."
   ]
  },
  {
   "cell_type": "markdown",
   "metadata": {},
   "source": [
    "A: The more complex model has stronger linearity and lower average erros, as demonstrated by higher R^2 and CC values and lower RMSE and MAE values. This is the strongest advantageof the more complex model: it considers more of the training data so as long as it doesn't overfit the model will likely better predict unseen values. Besides additional computational requirements, the main disadvantage of multivariate regression is how easy the results are to explain. With a single regressor, even a transformed one, the logic is easy to follow -- a similar advantage that decision trees show. With a multivariate linear model, there are dangers of multicollinearity. For statistical reasons that I don't think it necessary to detail here, the weight on an individual regressor (attribute) does not actually represent that regressor's independent relationship with the target, which makes the full model difficult to explain and interpret in a way that is not strictly mathematical."
   ]
  },
  {
   "cell_type": "markdown",
   "metadata": {},
   "source": [
    "### ========== Question 2.15 ==========\n",
    "Finally, experiment with tree-based regressors (e.g. [`DecisionTreeRegressor`](http://scikit-learn.org/0.17/modules/generated/sklearn.tree.DecisionTreeRegressor.html), [`RandomForestRegressor`](http://scikit-learn.org/0.17/modules/generated/sklearn.ensemble.RandomForestRegressor.html)) and report 5-fold cross-validation scores for R^2, RMSE, MAE and CC. Has your performance improved? Explain your answer in 1-2 sentences."
   ]
  },
  {
   "cell_type": "code",
   "execution_count": 62,
   "metadata": {},
   "outputs": [
    {
     "name": "stdout",
     "output_type": "stream",
     "text": [
      "DECISION TREE REGRESSOR: \n",
      "R^2 value = 0.731\n",
      "Root Mean Squared Error (RMSE) = 3,488.44\n",
      "Mean Absolute Error (MAE) = 2,133.01\n",
      "Correlation Coefficient from corrcoef = 0.859\n",
      "\n",
      "RANDOM FOREST REGRESSOR: \n",
      "R^2 value = 0.815\n",
      "Root Mean Squared Error (RMSE) = 2,888.98\n",
      "Mean Absolute Error (MAE) = 1,901.33\n",
      "Correlation Coefficient from corrcoef = 0.907\n"
     ]
    }
   ],
   "source": [
    "# Your code goes here\n",
    "dt = DecisionTreeRegressor(max_depth=5, random_state=1)\n",
    "dt.fit(X_enc, y_mv)\n",
    "y_pred_mv = cross_val_predict(dt, X_enc, y=y_mv, cv=kf)\n",
    "print (\"DECISION TREE REGRESSOR: \")\n",
    "R2_mv = r2_score(y_true=y_mv, y_pred=y_pred_mv)\n",
    "print (\"R^2 value = {:,.3f}\".format(R2_mv))\n",
    "MSE_mv = mean_squared_error(y_true=y_mv, y_pred=y_pred_mv)\n",
    "print (\"Root Mean Squared Error (RMSE) = {:,.2f}\".format(sqrt(MSE_mv)))\n",
    "print (\"Mean Absolute Error (MAE) = {:,.2f}\".format(mean_absolute_error(y_true=y_mv, y_pred=y_pred_mv)))\n",
    "print (\"Correlation Coefficient from corrcoef = {:,.3f}\".format(np.corrcoef(y_mv, y_pred_mv)[1,0]))\n",
    "\n",
    "print()\n",
    "\n",
    "rf = RandomForestRegressor(n_estimators=10, max_depth=5, random_state=1)\n",
    "rf.fit(X_enc, y_mv)\n",
    "y_pred_mv = cross_val_predict(rf, X_enc, y=y_mv, cv=kf)\n",
    "print (\"RANDOM FOREST REGRESSOR: \")\n",
    "R2_mv = r2_score(y_true=y_mv, y_pred=y_pred_mv)\n",
    "print (\"R^2 value = {:,.3f}\".format(R2_mv))\n",
    "MSE_mv = mean_squared_error(y_true=y_mv, y_pred=y_pred_mv)\n",
    "print (\"Root Mean Squared Error (RMSE) = {:,.2f}\".format(sqrt(MSE_mv)))\n",
    "print (\"Mean Absolute Error (MAE) = {:,.2f}\".format(mean_absolute_error(y_true=y_mv, y_pred=y_pred_mv)))\n",
    "print (\"Correlation Coefficient from corrcoef = {:,.3f}\".format(np.corrcoef(y_mv, y_pred_mv)[1,0]))"
   ]
  },
  {
   "cell_type": "markdown",
   "metadata": {},
   "source": [
    "A: The Tree and Forest Regressors outperform the univariate regression (even after the log transformation) but while the Forest Regressor gets very close it does not quite reach the performance of the Multivariate Regressor. "
   ]
  }
 ],
 "metadata": {
  "kernelspec": {
   "display_name": "Python 3",
   "language": "python",
   "name": "python3"
  },
  "language_info": {
   "codemirror_mode": {
    "name": "ipython",
    "version": 3
   },
   "file_extension": ".py",
   "mimetype": "text/x-python",
   "name": "python",
   "nbconvert_exporter": "python",
   "pygments_lexer": "ipython3",
   "version": "3.6.1"
  }
 },
 "nbformat": 4,
 "nbformat_minor": 1
}
